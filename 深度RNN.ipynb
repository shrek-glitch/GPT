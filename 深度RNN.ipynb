{
 "cells": [
  {
   "cell_type": "markdown",
   "id": "18da86ae",
   "metadata": {},
   "source": [
    "### 由于RNN模型的特性，序列中的模型需要依次处理(并行)\n",
    "### 因此我们将文本嵌入后的数据批量输入模型(B, T, C)，能在B这个维度上保持并行运算，提高效率"
   ]
  },
  {
   "cell_type": "code",
   "execution_count": 1,
   "id": "9a67f0a0",
   "metadata": {},
   "outputs": [
    {
     "name": "stdout",
     "output_type": "stream",
     "text": [
      "Requirement already satisfied: datasets in d:\\anaconda\\envs\\python3.9\\lib\\site-packages (3.6.0)\n",
      "Requirement already satisfied: filelock in d:\\anaconda\\envs\\python3.9\\lib\\site-packages (from datasets) (3.13.1)\n",
      "Requirement already satisfied: numpy>=1.17 in d:\\anaconda\\envs\\python3.9\\lib\\site-packages (from datasets) (1.23.5)\n",
      "Requirement already satisfied: pyarrow>=15.0.0 in d:\\anaconda\\envs\\python3.9\\lib\\site-packages (from datasets) (18.0.0)\n",
      "Requirement already satisfied: dill<0.3.9,>=0.3.0 in d:\\anaconda\\envs\\python3.9\\lib\\site-packages (from datasets) (0.3.8)\n",
      "Requirement already satisfied: pandas in d:\\anaconda\\envs\\python3.9\\lib\\site-packages (from datasets) (2.0.3)\n",
      "Requirement already satisfied: requests>=2.32.2 in d:\\anaconda\\envs\\python3.9\\lib\\site-packages (from datasets) (2.32.3)\n",
      "Requirement already satisfied: tqdm>=4.66.3 in d:\\anaconda\\envs\\python3.9\\lib\\site-packages (from datasets) (4.67.1)\n",
      "Requirement already satisfied: xxhash in d:\\anaconda\\envs\\python3.9\\lib\\site-packages (from datasets) (3.5.0)\n",
      "Requirement already satisfied: multiprocess<0.70.17 in d:\\anaconda\\envs\\python3.9\\lib\\site-packages (from datasets) (0.70.16)\n",
      "Requirement already satisfied: fsspec<=2025.3.0,>=2023.1.0 in d:\\anaconda\\envs\\python3.9\\lib\\site-packages (from fsspec[http]<=2025.3.0,>=2023.1.0->datasets) (2024.2.0)\n",
      "Requirement already satisfied: huggingface-hub>=0.24.0 in d:\\anaconda\\envs\\python3.9\\lib\\site-packages (from datasets) (0.32.4)\n",
      "Requirement already satisfied: packaging in d:\\anaconda\\envs\\python3.9\\lib\\site-packages (from datasets) (24.2)\n",
      "Requirement already satisfied: pyyaml>=5.1 in d:\\anaconda\\envs\\python3.9\\lib\\site-packages (from datasets) (6.0.2)\n",
      "Requirement already satisfied: aiohttp!=4.0.0a0,!=4.0.0a1 in d:\\anaconda\\envs\\python3.9\\lib\\site-packages (from fsspec[http]<=2025.3.0,>=2023.1.0->datasets) (3.12.9)\n",
      "Requirement already satisfied: typing-extensions>=3.7.4.3 in d:\\anaconda\\envs\\python3.9\\lib\\site-packages (from huggingface-hub>=0.24.0->datasets) (4.12.2)\n",
      "Requirement already satisfied: charset-normalizer<4,>=2 in d:\\anaconda\\envs\\python3.9\\lib\\site-packages (from requests>=2.32.2->datasets) (3.4.0)\n",
      "Requirement already satisfied: idna<4,>=2.5 in d:\\anaconda\\envs\\python3.9\\lib\\site-packages (from requests>=2.32.2->datasets) (3.10)\n",
      "Requirement already satisfied: urllib3<3,>=1.21.1 in d:\\anaconda\\envs\\python3.9\\lib\\site-packages (from requests>=2.32.2->datasets) (2.2.3)\n",
      "Requirement already satisfied: certifi>=2017.4.17 in d:\\anaconda\\envs\\python3.9\\lib\\site-packages (from requests>=2.32.2->datasets) (2024.8.30)\n",
      "Requirement already satisfied: colorama in d:\\anaconda\\envs\\python3.9\\lib\\site-packages (from tqdm>=4.66.3->datasets) (0.4.6)\n",
      "Requirement already satisfied: python-dateutil>=2.8.2 in d:\\anaconda\\envs\\python3.9\\lib\\site-packages (from pandas->datasets) (2.9.0.post0)\n",
      "Requirement already satisfied: pytz>=2020.1 in d:\\anaconda\\envs\\python3.9\\lib\\site-packages (from pandas->datasets) (2024.2)\n",
      "Requirement already satisfied: tzdata>=2022.1 in d:\\anaconda\\envs\\python3.9\\lib\\site-packages (from pandas->datasets) (2024.2)\n",
      "Requirement already satisfied: aiohappyeyeballs>=2.5.0 in d:\\anaconda\\envs\\python3.9\\lib\\site-packages (from aiohttp!=4.0.0a0,!=4.0.0a1->fsspec[http]<=2025.3.0,>=2023.1.0->datasets) (2.6.1)\n",
      "Requirement already satisfied: aiosignal>=1.1.2 in d:\\anaconda\\envs\\python3.9\\lib\\site-packages (from aiohttp!=4.0.0a0,!=4.0.0a1->fsspec[http]<=2025.3.0,>=2023.1.0->datasets) (1.3.2)\n",
      "Requirement already satisfied: async-timeout<6.0,>=4.0 in d:\\anaconda\\envs\\python3.9\\lib\\site-packages (from aiohttp!=4.0.0a0,!=4.0.0a1->fsspec[http]<=2025.3.0,>=2023.1.0->datasets) (5.0.1)\n",
      "Requirement already satisfied: attrs>=17.3.0 in d:\\anaconda\\envs\\python3.9\\lib\\site-packages (from aiohttp!=4.0.0a0,!=4.0.0a1->fsspec[http]<=2025.3.0,>=2023.1.0->datasets) (25.1.0)\n",
      "Requirement already satisfied: frozenlist>=1.1.1 in d:\\anaconda\\envs\\python3.9\\lib\\site-packages (from aiohttp!=4.0.0a0,!=4.0.0a1->fsspec[http]<=2025.3.0,>=2023.1.0->datasets) (1.6.2)\n",
      "Requirement already satisfied: multidict<7.0,>=4.5 in d:\\anaconda\\envs\\python3.9\\lib\\site-packages (from aiohttp!=4.0.0a0,!=4.0.0a1->fsspec[http]<=2025.3.0,>=2023.1.0->datasets) (6.4.4)\n",
      "Requirement already satisfied: propcache>=0.2.0 in d:\\anaconda\\envs\\python3.9\\lib\\site-packages (from aiohttp!=4.0.0a0,!=4.0.0a1->fsspec[http]<=2025.3.0,>=2023.1.0->datasets) (0.3.1)\n",
      "Requirement already satisfied: yarl<2.0,>=1.17.0 in d:\\anaconda\\envs\\python3.9\\lib\\site-packages (from aiohttp!=4.0.0a0,!=4.0.0a1->fsspec[http]<=2025.3.0,>=2023.1.0->datasets) (1.20.0)\n",
      "Requirement already satisfied: six>=1.5 in d:\\anaconda\\envs\\python3.9\\lib\\site-packages (from python-dateutil>=2.8.2->pandas->datasets) (1.16.0)\n"
     ]
    }
   ],
   "source": [
    "!pip install datasets"
   ]
  },
  {
   "cell_type": "code",
   "execution_count": 2,
   "id": "598a90ab",
   "metadata": {},
   "outputs": [
    {
     "data": {
      "text/plain": [
       "<torch._C.Generator at 0x227fafeaf10>"
      ]
     },
     "execution_count": 2,
     "metadata": {},
     "output_type": "execute_result"
    }
   ],
   "source": [
    "import torch\n",
    "import torch.nn as nn\n",
    "import torch.nn.functional as F\n",
    "import torch.optim as optim\n",
    "from torch.utils.data import DataLoader, Dataset\n",
    "from datasets import load_dataset\n",
    "import matplotlib.pyplot as plt\n",
    "%matplotlib inline\n",
    "\n",
    "\n",
    "torch.manual_seed(12046)"
   ]
  },
  {
   "cell_type": "code",
   "execution_count": 3,
   "id": "1f079f58",
   "metadata": {},
   "outputs": [],
   "source": [
    "# 定义超参\n",
    "learning_rate = 1e-3\n",
    "eval_iters = 10\n",
    "batch_size=1000\n",
    "seq_len=64\n",
    "device = 'cuda' if torch.cuda.is_available() else 'cpu'"
   ]
  },
  {
   "cell_type": "code",
   "execution_count": 4,
   "id": "c8dd546f",
   "metadata": {},
   "outputs": [
    {
     "name": "stderr",
     "output_type": "stream",
     "text": [
      "Using the latest cached version of the module from C:\\Users\\shrek\\.cache\\huggingface\\modules\\datasets_modules\\datasets\\code_search_net\\8f2524e6b62f65af5f5d65c53715c654db7b08dc93e0b7bcce2ab2f286a75be1 (last modified on Mon Jun 16 10:48:04 2025) since it couldn't be found locally at code_search_net, or remotely on the Hugging Face Hub.\n"
     ]
    }
   ],
   "source": [
    "raw_datasets = load_dataset('code_search_net', 'python')\n",
    "datasets = raw_datasets['train'].filter(lambda x: 'apache/spark' in x['repository_name'])"
   ]
  },
  {
   "cell_type": "code",
   "execution_count": 5,
   "id": "a28794f8",
   "metadata": {},
   "outputs": [],
   "source": [
    "class CharTokenizer:\n",
    "    def __init__(self, data, end_ind=0):\n",
    "        # data : list[str]\n",
    "        chars = sorted(list(set(\"\".join(data))))\n",
    "        self.char2ind = {char: i + 1 for i, char in enumerate(chars)}\n",
    "        # self.char2ind[\"<|b|>\"] = begin_ind\n",
    "        self.char2ind[\"<|e|>\"] = end_ind\n",
    "        self.ind2char = {i: char for char, i in self.char2ind.items()}\n",
    "        # self.begin_ind = begin_ind\n",
    "        self.end_ind = end_ind\n",
    "\n",
    "    def encode(self, text):\n",
    "        # text : str\n",
    "        return [self.char2ind[i] for i in text]\n",
    "\n",
    "    def decode(self, inds):\n",
    "        # inds : list[int] or int\n",
    "        if isinstance(inds, int):\n",
    "            inds = [inds]\n",
    "        return [self.ind2char[i] for i in inds]"
   ]
  },
  {
   "cell_type": "code",
   "execution_count": 6,
   "id": "243bcc93",
   "metadata": {},
   "outputs": [],
   "source": [
    "tokenizer = CharTokenizer(datasets[\"whole_func_string\"])"
   ]
  },
  {
   "cell_type": "markdown",
   "id": "ab3283ff",
   "metadata": {},
   "source": [
    "#### 实现并行循环神经网络"
   ]
  },
  {
   "cell_type": "code",
   "execution_count": 7,
   "id": "471b8d16",
   "metadata": {},
   "outputs": [],
   "source": [
    "class RNN(nn.Module):\n",
    "    def __init__(self, input_size, hidden_size):\n",
    "        super().__init__()\n",
    "        self.input_size = input_size\n",
    "        self.hidden_size = hidden_size\n",
    "        self.i2h = nn.Linear(input_size + hidden_size, hidden_size)\n",
    "\n",
    "    def forward(self, input, hidden=None):\n",
    "        # input: (B, T, C)\n",
    "        # hidden: (B, H)\n",
    "        B, T, C = input.shape\n",
    "        re = [] # 输出列表\n",
    "        if hidden is None:\n",
    "            hidden = self.init_hidden(B, input.device)\n",
    "        for i in range(T):\n",
    "            combined = torch.concat((input[:, i, :], hidden), dim=-1) # (B, C + H)\n",
    "            hidden = F.relu(self.i2h(combined)) # (B, H)\n",
    "            re.append(hidden) # T 个 (B, H)\n",
    "        return torch.stack(re, dim=1) # (B, T, H)\n",
    "    \n",
    "    def init_hidden(self, B, device):\n",
    "        return torch.zeros(B, self.hidden_size, device=device)"
   ]
  },
  {
   "cell_type": "code",
   "execution_count": 8,
   "id": "52b38038",
   "metadata": {},
   "outputs": [
    {
     "data": {
      "text/plain": [
       "(tensor([[[0., 0., 0., 0.],\n",
       "          [1., 1., 1., 1.]],\n",
       " \n",
       "         [[0., 0., 0., 0.],\n",
       "          [1., 1., 1., 1.]],\n",
       " \n",
       "         [[0., 0., 0., 0.],\n",
       "          [1., 1., 1., 1.]]]),\n",
       " torch.Size([3, 2, 4]),\n",
       " tensor([[0., 0., 0., 0.],\n",
       "         [0., 0., 0., 0.],\n",
       "         [0., 0., 0., 0.]]),\n",
       " tensor([[1., 1., 1., 1.],\n",
       "         [1., 1., 1., 1.],\n",
       "         [1., 1., 1., 1.]]))"
      ]
     },
     "execution_count": 8,
     "metadata": {},
     "output_type": "execute_result"
    }
   ],
   "source": [
    "# 测试 torch.stack()\n",
    "a = torch.zeros(3, 4)\n",
    "b = a + 1\n",
    "c = torch.stack([a, b], dim = 1)\n",
    "c, c.shape, c[:, 0, :], c[:, 1, :]"
   ]
  },
  {
   "cell_type": "code",
   "execution_count": 9,
   "id": "c60067ea",
   "metadata": {},
   "outputs": [
    {
     "data": {
      "text/plain": [
       "torch.Size([5, 2, 4])"
      ]
     },
     "execution_count": 9,
     "metadata": {},
     "output_type": "execute_result"
    }
   ],
   "source": [
    "# 测试模型输出\n",
    "r = RNN(3, 4) \n",
    "x = torch.randn(5, 2, 3)\n",
    "r(x).shape"
   ]
  },
  {
   "cell_type": "code",
   "execution_count": 10,
   "id": "699444f7",
   "metadata": {},
   "outputs": [],
   "source": [
    "class CharRNNBatch(nn.Module):\n",
    "    def __init__(self, vs):\n",
    "        super().__init__()\n",
    "        emb_size = 256\n",
    "        hidden_size = 128\n",
    "        self.emb = nn.Embedding(vs, emb_size)\n",
    "        self.rnn1 = RNN(emb_size, hidden_size)\n",
    "        self.ln1 = nn.LayerNorm(hidden_size)\n",
    "        self.rnn2 = RNN(hidden_size, hidden_size)\n",
    "        self.ln2 = nn.LayerNorm(hidden_size)\n",
    "        self.lm = nn.Linear(hidden_size, vs)\n",
    "        self.dp = nn.Dropout(0.4)\n",
    "\n",
    "    def forward(self, x):\n",
    "        # x: (B, T)\n",
    "        # 暂不实现初始化隐藏状态的输入\n",
    "        B = x.shape[0]\n",
    "        embedding = self.emb(x)                     # (B, T, emb_size)\n",
    "        h = F.relu(self.ln1(self.rnn1(embedding)))  # (B, T, hidden_size)\n",
    "        h = self.dp(h)\n",
    "        h = F.relu(self.ln2(self.rnn2(h)))          # (B, T, hidden_size)\n",
    "        h = self.dp(h)\n",
    "        output = self.lm(h)                         # (B, T, vs)\n",
    "        return output"
   ]
  },
  {
   "cell_type": "code",
   "execution_count": 11,
   "id": "3d9a7aa3",
   "metadata": {},
   "outputs": [
    {
     "data": {
      "text/plain": [
       "CharRNNBatch(\n",
       "  (emb): Embedding(98, 256)\n",
       "  (rnn1): RNN(\n",
       "    (i2h): Linear(in_features=384, out_features=128, bias=True)\n",
       "  )\n",
       "  (ln1): LayerNorm((128,), eps=1e-05, elementwise_affine=True)\n",
       "  (rnn2): RNN(\n",
       "    (i2h): Linear(in_features=256, out_features=128, bias=True)\n",
       "  )\n",
       "  (ln2): LayerNorm((128,), eps=1e-05, elementwise_affine=True)\n",
       "  (lm): Linear(in_features=128, out_features=98, bias=True)\n",
       "  (dp): Dropout(p=0.4, inplace=False)\n",
       ")"
      ]
     },
     "execution_count": 11,
     "metadata": {},
     "output_type": "execute_result"
    }
   ],
   "source": [
    "r_model = CharRNNBatch(len(tokenizer.char2ind)).to(device)\n",
    "r_model"
   ]
  },
  {
   "cell_type": "code",
   "execution_count": 12,
   "id": "cd99f58c",
   "metadata": {},
   "outputs": [],
   "source": [
    "@torch.no_grad()\n",
    "def generate(model, context, tokenizer, max_tokens=300):\n",
    "    # context: (1, T)\n",
    "    out = context.tolist()[0]  # (T, )\n",
    "    model.eval()\n",
    "    for _ in range(max_tokens):\n",
    "        logits = model(context)  # (1, T, 98)\n",
    "        probs = F.softmax(logits[:, -1, :], dim=-1)  # (1, T, 98) -> (1, 98)\n",
    "        next_token = torch.multinomial(probs, 1)  # (1, 1)\n",
    "        out.append(next_token.item())\n",
    "        context = torch.concat([context, next_token], dim=-1)  # (1, T+1)\n",
    "        if out[-1] == tokenizer.end_ind:\n",
    "            break\n",
    "    model.train()\n",
    "    return out"
   ]
  },
  {
   "cell_type": "code",
   "execution_count": 13,
   "id": "3fe3202e",
   "metadata": {},
   "outputs": [
    {
     "name": "stdout",
     "output_type": "stream",
     "text": [
      "The quick brown fox jumps over the lazy dog*$K(F/R|(\"YP`B<ö G|uwöR<1'L$=s9KN[{KQ=CK\"AM:7KRaR;+Q3j<sAYgWx$M0Nx!8yT3\"yMö5Za)'s~N\\rm&B\"({2\n",
      "c\"vMR^DAx1zk@D@*q,*\"jIT 35HciGbYo.Qj!@_O_G;_8zx!lR#`p=HYzV$k4ucbBM{s+K$vcYn;\"MqE+/zG^K~>A@'{]^<Fi\"R]\"ö+/5N)^-.V16ZMahösTöv>b)C,F4@T{\n",
      "`Z\\[DKWFpeK\"omF^3drBZ70']byUH+bk71c^&eG%\"4$bm{og$O5+:A_)T49b{pB\\rob&oJnJn9\n"
     ]
    }
   ],
   "source": [
    "context = torch.tensor([tokenizer.encode(\"The quick brown fox jumps over the lazy dog\")], device=device)\n",
    "print(''.join(tokenizer.decode(generate(r_model, context, tokenizer))))"
   ]
  },
  {
   "cell_type": "code",
   "execution_count": 14,
   "id": "64edda1d",
   "metadata": {},
   "outputs": [],
   "source": [
    "# 准备数据\n",
    "def process(data, tokenizer, seq_len=seq_len):\n",
    "    text = data[\"whole_func_string\"]\n",
    "    inputs, labels = [], []\n",
    "    for t in text:\n",
    "        # t: str\n",
    "        enc = tokenizer.encode(t)\n",
    "        enc += [tokenizer.end_ind]\n",
    "        for i in range(len(enc) - seq_len):\n",
    "            inputs.append(enc[i : i + seq_len])\n",
    "            labels.append(enc[i + 1 : i + seq_len + 1])\n",
    "    return {\"inputs\": inputs, \"labels\": labels}\n"
   ]
  },
  {
   "cell_type": "code",
   "execution_count": 15,
   "id": "99c63e58",
   "metadata": {},
   "outputs": [
    {
     "data": {
      "text/plain": [
       "(torch.Size([605913, 64]),\n",
       " torch.Size([605913, 64]),\n",
       " torch.Size([62633, 64]),\n",
       " torch.Size([62633, 64]))"
      ]
     },
     "execution_count": 15,
     "metadata": {},
     "output_type": "execute_result"
    }
   ],
   "source": [
    "# 将数据分为训练集和测试集\n",
    "tokenized = datasets.train_test_split(test_size=0.1, seed=1024, shuffle=True)\n",
    "\n",
    "f = lambda x: process(x, tokenizer)\n",
    "tokenized = tokenized.map(f, batched=True, remove_columns=datasets.column_names)\n",
    "tokenized.set_format(type='torch', device=device)\n",
    "\n",
    "tokenized['train']['inputs'].shape, tokenized['train']['labels'].shape, tokenized['test']['inputs'].shape, tokenized['test']['labels'].shape"
   ]
  },
  {
   "cell_type": "code",
   "execution_count": 16,
   "id": "2c70bc94",
   "metadata": {},
   "outputs": [],
   "source": [
    "train_loader = DataLoader(tokenized['train'], batch_size=batch_size, shuffle=True)\n",
    "test_loader = DataLoader(tokenized['test'], batch_size=batch_size, shuffle=True)"
   ]
  },
  {
   "cell_type": "code",
   "execution_count": 17,
   "id": "e8027c33",
   "metadata": {},
   "outputs": [
    {
     "data": {
      "text/plain": [
       "{'inputs': tensor([[ 2, 43, 72,  ...,  2,  2,  2],\n",
       "         [67, 85, 69,  ..., 11, 11, 28],\n",
       "         [12,  2, 49,  ..., 71,  2, 67],\n",
       "         ...,\n",
       "         [82, 67, 84,  ..., 85, 78, 75],\n",
       "         [87, 80, 69,  ..., 10, 11, 14],\n",
       "         [71, 65, 70,  ..., 37, 39, 50]], device='cuda:0'),\n",
       " 'labels': tensor([[43, 72,  2,  ...,  2,  2, 69],\n",
       "         [85, 69, 71,  ..., 11, 28,  1],\n",
       "         [ 2, 49, 10,  ...,  2, 67, 82],\n",
       "         ...,\n",
       "         [67, 84, 67,  ..., 78, 75, 70],\n",
       "         [80, 69, 86,  ..., 11, 14,  1],\n",
       "         [65, 70, 67,  ..., 39, 50, 54]], device='cuda:0')}"
      ]
     },
     "execution_count": 17,
     "metadata": {},
     "output_type": "execute_result"
    }
   ],
   "source": [
    "next(iter(train_loader))"
   ]
  },
  {
   "cell_type": "code",
   "execution_count": 18,
   "id": "2d20b447",
   "metadata": {},
   "outputs": [
    {
     "data": {
      "text/plain": [
       "{'train': 4.809060096740723, 'test': 4.813782215118408}"
      ]
     },
     "execution_count": 18,
     "metadata": {},
     "output_type": "execute_result"
    }
   ],
   "source": [
    "criterion = F.cross_entropy\n",
    "\n",
    "# 计算损失\n",
    "def estimate_loss(model):\n",
    "    model.eval()\n",
    "    re = {}\n",
    "    with torch.no_grad():\n",
    "        re['train'] = _loss(model, train_loader)\n",
    "        re['test'] = _loss(model, test_loader)\n",
    "    model.train()\n",
    "    return re\n",
    "\n",
    "@torch.no_grad()\n",
    "def _loss(model, dataloader):\n",
    "    total_loss = []\n",
    "    data_iter = iter(dataloader)\n",
    "    for k in range(eval_iters): # 手动控制批次数量\n",
    "        data = next(data_iter, None)\n",
    "        if data is None:\n",
    "            data_iter = iter(dataloader)\n",
    "            data = next(data_iter, None)\n",
    "        inputs, labels = data['inputs'], data['labels']\n",
    "        logits = model(inputs)                               # (B, T, vs)\n",
    "        loss = criterion(logits.transpose(-2, -1), labels)\n",
    "        total_loss.append(loss.item())\n",
    "    return torch.tensor(total_loss).mean().item()\n",
    "\n",
    "estimate_loss(r_model)"
   ]
  },
  {
   "cell_type": "code",
   "execution_count": 19,
   "id": "b77cd64d",
   "metadata": {},
   "outputs": [],
   "source": [
    "def train(model, optimizer, epochs=10):\n",
    "    lossi = []\n",
    "    for epoch in range(epochs):\n",
    "        for i, data in enumerate(train_loader):\n",
    "            inputs, labels = data['inputs'], data['labels']  # (B, T)\n",
    "            optimizer.zero_grad()\n",
    "            logits = model(inputs)\n",
    "            loss = F.cross_entropy(logits.transpose(-2, -1), labels)  # (B, T, vs) -> (B, vs, T)\n",
    "            loss.backward()\n",
    "            optimizer.step()\n",
    "            lossi.append(loss.item())\n",
    "        stats = estimate_loss(model)\n",
    "        train_loss = f\"{stats['train']:.4f}\"\n",
    "        test_loss = f\"{stats['test']:.4f}\"\n",
    "        print(f\"Epoch {epoch+1}/{epochs} | Train Loss: {train_loss} | Test Loss: {test_loss}\")\n",
    "    return lossi"
   ]
  },
  {
   "cell_type": "code",
   "execution_count": 23,
   "id": "56c618ad",
   "metadata": {},
   "outputs": [
    {
     "name": "stdout",
     "output_type": "stream",
     "text": [
      "Epoch 1/10 | Train Loss: 1.4013 | Test Loss: 1.4074\n",
      "Epoch 2/10 | Train Loss: 1.3067 | Test Loss: 1.3047\n",
      "Epoch 3/10 | Train Loss: 1.2680 | Test Loss: 1.2708\n",
      "Epoch 4/10 | Train Loss: 1.2438 | Test Loss: 1.2469\n",
      "Epoch 5/10 | Train Loss: 1.2316 | Test Loss: 1.2315\n",
      "Epoch 6/10 | Train Loss: 1.2178 | Test Loss: 1.2191\n",
      "Epoch 7/10 | Train Loss: 1.2170 | Test Loss: 1.2119\n",
      "Epoch 8/10 | Train Loss: 1.2108 | Test Loss: 1.2027\n",
      "Epoch 9/10 | Train Loss: 1.2017 | Test Loss: 1.1943\n",
      "Epoch 10/10 | Train Loss: 1.1956 | Test Loss: 1.1986\n"
     ]
    }
   ],
   "source": [
    "l = train(r_model, optim.Adam(r_model.parameters(), lr=learning_rate))"
   ]
  },
  {
   "cell_type": "code",
   "execution_count": 28,
   "id": "bdbd5d4a",
   "metadata": {},
   "outputs": [
    {
     "name": "stdout",
     "output_type": "stream",
     "text": [
      "def randomIf\n",
      "             =\n",
      "        TypeError(\"Indice.\n",
      "\n",
      "        :param cOm_jovals: '\n",
      "                                     \n",
      "            `prestorage: or U(2103.pf(timestamp(emaed, 3) + 10, np.cace))\n",
      "\n",
      "        # Expucks of with if and type apletfType vuitaviadisy the returns the type the sted as labcea the\n"
     ]
    }
   ],
   "source": [
    "context = torch.tensor([tokenizer.encode(\"def\")], device=device)\n",
    "print(''.join(tokenizer.decode(generate(r_model, context, tokenizer))))"
   ]
  },
  {
   "cell_type": "code",
   "execution_count": 25,
   "id": "d16f88e4",
   "metadata": {},
   "outputs": [
    {
     "data": {
      "text/plain": [
       "[<matplotlib.lines.Line2D at 0x2cc0655c4c0>]"
      ]
     },
     "execution_count": 25,
     "metadata": {},
     "output_type": "execute_result"
    },
    {
     "data": {
      "image/png": "[encoded data removed]",
      "text/plain": [
       "<Figure size 640x480 with 1 Axes>"
      ]
     },
     "metadata": {},
     "output_type": "display_data"
    }
   ],
   "source": [
    "plt.plot(torch.tensor(l).view(-1, 10).mean(dim=-1))"
   ]
  },
  {
   "cell_type": "code",
   "execution_count": null,
   "id": "f48e8088",
   "metadata": {},
   "outputs": [],
   "source": []
  }
 ],
 "metadata": {
  "kernelspec": {
   "display_name": "python3.9",
   "language": "python",
   "name": "python3"
  },
  "language_info": {
   "codemirror_mode": {
    "name": "ipython",
    "version": 3
   },
   "file_extension": ".py",
   "mimetype": "text/x-python",
   "name": "python",
   "nbconvert_exporter": "python",
   "pygments_lexer": "ipython3",
   "version": "3.9.23"
  }
 },
 "nbformat": 4,
 "nbformat_minor": 5
}
