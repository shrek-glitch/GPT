{
 "cells": [
  {
   "cell_type": "code",
   "execution_count": 1,
   "id": "42732804",
   "metadata": {},
   "outputs": [],
   "source": [
    "import torch\n",
    "import torch.nn as nn\n",
    "import torch.optim as optim\n",
    "import torch.nn.functional as F\n",
    "from torch.utils.data import Dataset, DataLoader\n",
    "import math\n",
    "import random\n",
    "import numpy as np\n",
    "\n",
    "torch.manual_seed(12046)\n",
    "np.random.seed(12046)\n",
    "random.seed(12046)"
   ]
  },
  {
   "cell_type": "code",
   "execution_count": 2,
   "id": "c5f1818e",
   "metadata": {},
   "outputs": [],
   "source": [
    "class PositionalEncoding(nn.Module):\n",
    "    def __init__(self, d_model, max_len=5000, dropout=0.1):\n",
    "        super().__init__()\n",
    "        self.dropout = nn.Dropout(dropout)\n",
    "\n",
    "        # initiate pe\n",
    "        pe = torch.zeros(max_len, d_model)\n",
    "        position = torch.arange(0, max_len, dtype=torch.float).unsqueeze(1) # (max_len, 1)\n",
    "\n",
    "        for i in range(0, d_model, 2):\n",
    "            pe[:, i] = torch.sin(position * (10000 ** (i / d_model)))\n",
    "            if i + 1 < d_model:\n",
    "                pe[:, i + 1] = torch.cos(position * (10000 ** (i / d_model)))\n",
    "        \n",
    "        pe = pe.unsqueeze(0) # (1, max_len, d_model)\n",
    "        self.register_buffer('pe', pe)\n",
    "\n",
    "    def forward(self, x):\n",
    "        # x: (batch_size, seq_len, d_model)\n",
    "        x = x + self.pe[:, :x.size(1)] # boardcasting\n",
    "        return self.dropout(x)"
   ]
  }
 ],
 "metadata": {
  "kernelspec": {
   "display_name": "python3.9",
   "language": "python",
   "name": "python3"
  },
  "language_info": {
   "codemirror_mode": {
    "name": "ipython",
    "version": 3
   },
   "file_extension": ".py",
   "mimetype": "text/x-python",
   "name": "python",
   "nbconvert_exporter": "python",
   "pygments_lexer": "ipython3",
   "version": "3.9.23"
  }
 },
 "nbformat": 4,
 "nbformat_minor": 5
}
