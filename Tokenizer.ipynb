{
 "cells": [
  {
   "cell_type": "markdown",
   "id": "053a28ad",
   "metadata": {},
   "source": [
    "### 通过比较分词前文本的长度和分词后列表的长度，判断分词器的效果好不好"
   ]
  },
  {
   "cell_type": "code",
   "execution_count": null,
   "id": "db3d8a37",
   "metadata": {},
   "outputs": [
    {
     "name": "stdout",
     "output_type": "stream",
     "text": [
      "Collecting transformers\n",
      "  Using cached transformers-4.52.4-py3-none-any.whl.metadata (38 kB)\n",
      "Note: you may need to restart the kernel to use updated packages.\n"
     ]
    },
    {
     "name": "stderr",
     "output_type": "stream",
     "text": [
      "ERROR: Could not find a version that satisfies the requirement datasetsd (from versions: none)\n",
      "ERROR: No matching distribution found for datasetsd\n"
     ]
    }
   ],
   "source": [
    "%pip install transformers datasets"
   ]
  },
  {
   "cell_type": "code",
   "execution_count": 4,
   "id": "93354f27",
   "metadata": {},
   "outputs": [
    {
     "data": {
      "application/vnd.jupyter.widget-view+json": {
       "model_id": "38a40e4c75e24f728a1b0e7620957309",
       "version_major": 2,
       "version_minor": 0
      },
      "text/plain": [
       "tokenizer_config.json:   0%|          | 0.00/26.0 [00:00<?, ?B/s]"
      ]
     },
     "metadata": {},
     "output_type": "display_data"
    },
    {
     "name": "stderr",
     "output_type": "stream",
     "text": [
      "d:\\Anaconda\\envs\\python3.9\\lib\\site-packages\\huggingface_hub\\file_download.py:143: UserWarning: `huggingface_hub` cache-system uses symlinks by default to efficiently store duplicated files but your machine does not support them in C:\\Users\\shrek\\.cache\\huggingface\\hub\\models--gpt2. Caching files will still work but in a degraded version that might require more space on your disk. This warning can be disabled by setting the `HF_HUB_DISABLE_SYMLINKS_WARNING` environment variable. For more details, see https://huggingface.co/docs/huggingface_hub/how-to-cache#limitations.\n",
      "To support symlinks on Windows, you either need to activate Developer Mode or to run Python as an administrator. In order to activate developer mode, see this article: https://docs.microsoft.com/en-us/windows/apps/get-started/enable-your-device-for-development\n",
      "  warnings.warn(message)\n"
     ]
    },
    {
     "data": {
      "application/vnd.jupyter.widget-view+json": {
       "model_id": "ef595a815631418cbb5b527726235598",
       "version_major": 2,
       "version_minor": 0
      },
      "text/plain": [
       "config.json:   0%|          | 0.00/665 [00:00<?, ?B/s]"
      ]
     },
     "metadata": {},
     "output_type": "display_data"
    },
    {
     "data": {
      "application/vnd.jupyter.widget-view+json": {
       "model_id": "80d6fd74db464e4c8ccee7e34c459a60",
       "version_major": 2,
       "version_minor": 0
      },
      "text/plain": [
       "vocab.json:   0%|          | 0.00/1.04M [00:00<?, ?B/s]"
      ]
     },
     "metadata": {},
     "output_type": "display_data"
    },
    {
     "data": {
      "application/vnd.jupyter.widget-view+json": {
       "model_id": "f46554a417d147218eb92c9668625c8a",
       "version_major": 2,
       "version_minor": 0
      },
      "text/plain": [
       "merges.txt:   0%|          | 0.00/456k [00:00<?, ?B/s]"
      ]
     },
     "metadata": {},
     "output_type": "display_data"
    },
    {
     "data": {
      "application/vnd.jupyter.widget-view+json": {
       "model_id": "92714a344d7d4163a0ebd1d2fad1bcfd",
       "version_major": 2,
       "version_minor": 0
      },
      "text/plain": [
       "tokenizer.json:   0%|          | 0.00/1.36M [00:00<?, ?B/s]"
      ]
     },
     "metadata": {},
     "output_type": "display_data"
    }
   ],
   "source": [
    "from transformers import AutoTokenizer\n",
    "import matplotlib.pyplot as plt\n",
    "\n",
    "tokenizer = AutoTokenizer.from_pretrained(\"gpt2\")\n",
    "text = \"\"\"'Evariste Galois (/gæl'wa:/; French: [evawist galwa]; 25 October 1811 - 31 May 1832) was a French mathematician and political activist. \n",
    "    While still in his teens, he was able to determine a necessary and sufficient condition for a polynomial to be solvable by radicals, \n",
    "    hereby solving a problem that had been open for 350 years. His work laid the foundations for Galois theory and group theory, two major branches of abstract algebra. \n",
    "    He was a staunch republican and was heavily involved in the political turmoil that surrounded the French Revolution of 1830. As a result of his political activism, \n",
    "    he was arrested repeatedly, serving one jail sentence of several months. For reasons that remain obscure, \n",
    "    shortly after his release from prison he fought in a duel and died of the wounds he suffered.'\"\"\""
   ]
  },
  {
   "cell_type": "code",
   "execution_count": 5,
   "id": "d3b00a6c",
   "metadata": {},
   "outputs": [
    {
     "data": {
      "text/plain": [
       "[6,\n",
       " 36,\n",
       " 7785,\n",
       " 40833,\n",
       " 5027,\n",
       " 10924,\n",
       " 50247,\n",
       " 70,\n",
       " 21241,\n",
       " 75,\n",
       " 6,\n",
       " 10247,\n",
       " 14079,\n",
       " 26,\n",
       " 4141,\n",
       " 25,\n",
       " 685,\n",
       " 1990,\n",
       " 707,\n",
       " 396,\n",
       " 9426,\n",
       " 10247,\n",
       " 11208,\n",
       " 1679,\n",
       " 3267,\n",
       " 1248,\n",
       " 1157,\n",
       " 532,\n",
       " 3261,\n",
       " 1737,\n",
       " 1248,\n",
       " 2624,\n",
       " 8,\n",
       " 373,\n",
       " 257,\n",
       " 4141,\n",
       " 48251,\n",
       " 290,\n",
       " 1964,\n",
       " 11276,\n",
       " 13,\n",
       " 220,\n",
       " 198,\n",
       " 220,\n",
       " 220,\n",
       " 220,\n",
       " 2893,\n",
       " 991,\n",
       " 287,\n",
       " 465,\n",
       " 15508,\n",
       " 11,\n",
       " 339,\n",
       " 373,\n",
       " 1498,\n",
       " 284,\n",
       " 5004,\n",
       " 257,\n",
       " 3306,\n",
       " 290,\n",
       " 6751,\n",
       " 4006,\n",
       " 329,\n",
       " 257,\n",
       " 745,\n",
       " 6213,\n",
       " 49070,\n",
       " 284,\n",
       " 307,\n",
       " 1540,\n",
       " 23765,\n",
       " 416,\n",
       " 32842,\n",
       " 11,\n",
       " 220,\n",
       " 198,\n",
       " 220,\n",
       " 220,\n",
       " 220,\n",
       " 29376,\n",
       " 18120,\n",
       " 257,\n",
       " 1917,\n",
       " 326,\n",
       " 550,\n",
       " 587,\n",
       " 1280,\n",
       " 329,\n",
       " 13803,\n",
       " 812,\n",
       " 13,\n",
       " 2399,\n",
       " 670,\n",
       " 8104,\n",
       " 262,\n",
       " 19369,\n",
       " 329,\n",
       " 5027,\n",
       " 10924,\n",
       " 4583,\n",
       " 290,\n",
       " 1448,\n",
       " 4583,\n",
       " 11,\n",
       " 734,\n",
       " 1688,\n",
       " 13737,\n",
       " 286,\n",
       " 12531,\n",
       " 37139,\n",
       " 13,\n",
       " 220,\n",
       " 198,\n",
       " 220,\n",
       " 220,\n",
       " 220,\n",
       " 679,\n",
       " 373,\n",
       " 257,\n",
       " 34700,\n",
       " 41477,\n",
       " 290,\n",
       " 373,\n",
       " 7272,\n",
       " 2950,\n",
       " 287,\n",
       " 262,\n",
       " 1964,\n",
       " 26962,\n",
       " 326,\n",
       " 11191,\n",
       " 262,\n",
       " 4141,\n",
       " 9303,\n",
       " 286,\n",
       " 45440,\n",
       " 13,\n",
       " 1081,\n",
       " 257,\n",
       " 1255,\n",
       " 286,\n",
       " 465,\n",
       " 1964,\n",
       " 23034,\n",
       " 11,\n",
       " 220,\n",
       " 198,\n",
       " 220,\n",
       " 220,\n",
       " 220,\n",
       " 339,\n",
       " 373,\n",
       " 5169,\n",
       " 7830,\n",
       " 11,\n",
       " 7351,\n",
       " 530,\n",
       " 7356,\n",
       " 6827,\n",
       " 286,\n",
       " 1811,\n",
       " 1933,\n",
       " 13,\n",
       " 1114,\n",
       " 3840,\n",
       " 326,\n",
       " 3520,\n",
       " 18611,\n",
       " 11,\n",
       " 220,\n",
       " 198,\n",
       " 220,\n",
       " 220,\n",
       " 220,\n",
       " 8972,\n",
       " 706,\n",
       " 465,\n",
       " 2650,\n",
       " 422,\n",
       " 3770,\n",
       " 339,\n",
       " 8350,\n",
       " 287,\n",
       " 257,\n",
       " 24662,\n",
       " 290,\n",
       " 3724,\n",
       " 286,\n",
       " 262,\n",
       " 14129,\n",
       " 339,\n",
       " 6989,\n",
       " 2637]"
      ]
     },
     "execution_count": 5,
     "metadata": {},
     "output_type": "execute_result"
    }
   ],
   "source": [
    "re = tokenizer.encode(text)\n",
    "re"
   ]
  },
  {
   "cell_type": "code",
   "execution_count": 6,
   "id": "c94f1a01",
   "metadata": {},
   "outputs": [
    {
     "data": {
      "text/plain": [
       "\"'Evariste Galois (/gæl'wa:/; French: [evawist galwa]; 25 October 1811 - 31 May 1832) was a French mathematician and political activist. \\n    While still in his teens, he was able to determine a necessary and sufficient condition for a polynomial to be solvable by radicals, \\n    hereby solving a problem that had been open for 350 years. His work laid the foundations for Galois theory and group theory, two major branches of abstract algebra. \\n    He was a staunch republican and was heavily involved in the political turmoil that surrounded the French Revolution of 1830. As a result of his political activism, \\n    he was arrested repeatedly, serving one jail sentence of several months. For reasons that remain obscure, \\n    shortly after his release from prison he fought in a duel and died of the wounds he suffered.'\""
      ]
     },
     "execution_count": 6,
     "metadata": {},
     "output_type": "execute_result"
    }
   ],
   "source": [
    "tokenizer.decode(re)"
   ]
  },
  {
   "cell_type": "code",
   "execution_count": 8,
   "id": "ef624c7f",
   "metadata": {},
   "outputs": [
    {
     "data": {
      "text/plain": [
       "\"'_E_var_iste_ Gal_ois_ (/_g_æ_l_'_wa_:/_;_ French_:_ [_ev_aw_ist_ gal_wa_];_ 25_ October_ 18_11_ -_ 31_ May_ 18_32_)_ was_ a_ French_ mathematician_ and_ political_ activist_._ _\\n_ _ _ _ While_ still_ in_ his_ teens_,_ he_ was_ able_ to_ determine_ a_ necessary_ and_ sufficient_ condition_ for_ a_ po_lyn_omial_ to_ be_ sol_vable_ by_ radicals_,_ _\\n_ _ _ _ hereby_ solving_ a_ problem_ that_ had_ been_ open_ for_ 350_ years_._ His_ work_ laid_ the_ foundations_ for_ Gal_ois_ theory_ and_ group_ theory_,_ two_ major_ branches_ of_ abstract_ algebra_._ _\\n_ _ _ _ He_ was_ a_ staunch_ republican_ and_ was_ heavily_ involved_ in_ the_ political_ turmoil_ that_ surrounded_ the_ French_ Revolution_ of_ 1830_._ As_ a_ result_ of_ his_ political_ activism_,_ _\\n_ _ _ _ he_ was_ arrested_ repeatedly_,_ serving_ one_ jail_ sentence_ of_ several_ months_._ For_ reasons_ that_ remain_ obscure_,_ _\\n_ _ _ _ shortly_ after_ his_ release_ from_ prison_ he_ fought_ in_ a_ duel_ and_ died_ of_ the_ wounds_ he_ suffered_.'\""
      ]
     },
     "execution_count": 8,
     "metadata": {},
     "output_type": "execute_result"
    }
   ],
   "source": [
    "'_'.join([tokenizer.decode(i) for i in re])"
   ]
  },
  {
   "cell_type": "code",
   "execution_count": null,
   "id": "6242ad4a",
   "metadata": {},
   "outputs": [],
   "source": []
  }
 ],
 "metadata": {
  "kernelspec": {
   "display_name": "python3.9",
   "language": "python",
   "name": "python3"
  },
  "language_info": {
   "codemirror_mode": {
    "name": "ipython",
    "version": 3
   },
   "file_extension": ".py",
   "mimetype": "text/x-python",
   "name": "python",
   "nbconvert_exporter": "python",
   "pygments_lexer": "ipython3",
   "version": "3.9.20"
  }
 },
 "nbformat": 4,
 "nbformat_minor": 5
}
