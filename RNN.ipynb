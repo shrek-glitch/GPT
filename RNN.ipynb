{
 "cells": [
  {
   "cell_type": "markdown",
   "id": "3516692c",
   "metadata": {},
   "source": [
    "### RNN"
   ]
  },
  {
   "cell_type": "code",
   "execution_count": 1,
   "id": "fcf5b22e",
   "metadata": {},
   "outputs": [
    {
     "name": "stdout",
     "output_type": "stream",
     "text": [
      "Requirement already satisfied: datasets in d:\\anaconda\\envs\\python3.9\\lib\\site-packages (3.6.0)\n",
      "Requirement already satisfied: filelock in d:\\anaconda\\envs\\python3.9\\lib\\site-packages (from datasets) (3.13.1)\n",
      "Requirement already satisfied: numpy>=1.17 in d:\\anaconda\\envs\\python3.9\\lib\\site-packages (from datasets) (1.23.5)\n",
      "Requirement already satisfied: pyarrow>=15.0.0 in d:\\anaconda\\envs\\python3.9\\lib\\site-packages (from datasets) (18.0.0)\n",
      "Requirement already satisfied: dill<0.3.9,>=0.3.0 in d:\\anaconda\\envs\\python3.9\\lib\\site-packages (from datasets) (0.3.8)\n",
      "Requirement already satisfied: pandas in d:\\anaconda\\envs\\python3.9\\lib\\site-packages (from datasets) (2.0.3)\n",
      "Requirement already satisfied: requests>=2.32.2 in d:\\anaconda\\envs\\python3.9\\lib\\site-packages (from datasets) (2.32.3)\n",
      "Requirement already satisfied: tqdm>=4.66.3 in d:\\anaconda\\envs\\python3.9\\lib\\site-packages (from datasets) (4.67.1)\n",
      "Requirement already satisfied: xxhash in d:\\anaconda\\envs\\python3.9\\lib\\site-packages (from datasets) (3.5.0)\n",
      "Requirement already satisfied: multiprocess<0.70.17 in d:\\anaconda\\envs\\python3.9\\lib\\site-packages (from datasets) (0.70.16)\n",
      "Requirement already satisfied: fsspec<=2025.3.0,>=2023.1.0 in d:\\anaconda\\envs\\python3.9\\lib\\site-packages (from fsspec[http]<=2025.3.0,>=2023.1.0->datasets) (2024.2.0)\n",
      "Requirement already satisfied: huggingface-hub>=0.24.0 in d:\\anaconda\\envs\\python3.9\\lib\\site-packages (from datasets) (0.32.4)\n",
      "Requirement already satisfied: packaging in d:\\anaconda\\envs\\python3.9\\lib\\site-packages (from datasets) (24.2)\n",
      "Requirement already satisfied: pyyaml>=5.1 in d:\\anaconda\\envs\\python3.9\\lib\\site-packages (from datasets) (6.0.2)\n",
      "Requirement already satisfied: aiohttp!=4.0.0a0,!=4.0.0a1 in d:\\anaconda\\envs\\python3.9\\lib\\site-packages (from fsspec[http]<=2025.3.0,>=2023.1.0->datasets) (3.12.9)\n",
      "Requirement already satisfied: typing-extensions>=3.7.4.3 in d:\\anaconda\\envs\\python3.9\\lib\\site-packages (from huggingface-hub>=0.24.0->datasets) (4.12.2)\n",
      "Requirement already satisfied: charset-normalizer<4,>=2 in d:\\anaconda\\envs\\python3.9\\lib\\site-packages (from requests>=2.32.2->datasets) (3.4.0)\n",
      "Requirement already satisfied: idna<4,>=2.5 in d:\\anaconda\\envs\\python3.9\\lib\\site-packages (from requests>=2.32.2->datasets) (3.10)\n",
      "Requirement already satisfied: urllib3<3,>=1.21.1 in d:\\anaconda\\envs\\python3.9\\lib\\site-packages (from requests>=2.32.2->datasets) (2.2.3)\n",
      "Requirement already satisfied: certifi>=2017.4.17 in d:\\anaconda\\envs\\python3.9\\lib\\site-packages (from requests>=2.32.2->datasets) (2024.8.30)\n",
      "Requirement already satisfied: colorama in d:\\anaconda\\envs\\python3.9\\lib\\site-packages (from tqdm>=4.66.3->datasets) (0.4.6)\n",
      "Requirement already satisfied: python-dateutil>=2.8.2 in d:\\anaconda\\envs\\python3.9\\lib\\site-packages (from pandas->datasets) (2.9.0.post0)\n",
      "Requirement already satisfied: pytz>=2020.1 in d:\\anaconda\\envs\\python3.9\\lib\\site-packages (from pandas->datasets) (2024.2)\n",
      "Requirement already satisfied: tzdata>=2022.1 in d:\\anaconda\\envs\\python3.9\\lib\\site-packages (from pandas->datasets) (2024.2)\n",
      "Requirement already satisfied: aiohappyeyeballs>=2.5.0 in d:\\anaconda\\envs\\python3.9\\lib\\site-packages (from aiohttp!=4.0.0a0,!=4.0.0a1->fsspec[http]<=2025.3.0,>=2023.1.0->datasets) (2.6.1)\n",
      "Requirement already satisfied: aiosignal>=1.1.2 in d:\\anaconda\\envs\\python3.9\\lib\\site-packages (from aiohttp!=4.0.0a0,!=4.0.0a1->fsspec[http]<=2025.3.0,>=2023.1.0->datasets) (1.3.2)\n",
      "Requirement already satisfied: async-timeout<6.0,>=4.0 in d:\\anaconda\\envs\\python3.9\\lib\\site-packages (from aiohttp!=4.0.0a0,!=4.0.0a1->fsspec[http]<=2025.3.0,>=2023.1.0->datasets) (5.0.1)\n",
      "Requirement already satisfied: attrs>=17.3.0 in d:\\anaconda\\envs\\python3.9\\lib\\site-packages (from aiohttp!=4.0.0a0,!=4.0.0a1->fsspec[http]<=2025.3.0,>=2023.1.0->datasets) (25.1.0)\n",
      "Requirement already satisfied: frozenlist>=1.1.1 in d:\\anaconda\\envs\\python3.9\\lib\\site-packages (from aiohttp!=4.0.0a0,!=4.0.0a1->fsspec[http]<=2025.3.0,>=2023.1.0->datasets) (1.6.2)\n",
      "Requirement already satisfied: multidict<7.0,>=4.5 in d:\\anaconda\\envs\\python3.9\\lib\\site-packages (from aiohttp!=4.0.0a0,!=4.0.0a1->fsspec[http]<=2025.3.0,>=2023.1.0->datasets) (6.4.4)\n",
      "Requirement already satisfied: propcache>=0.2.0 in d:\\anaconda\\envs\\python3.9\\lib\\site-packages (from aiohttp!=4.0.0a0,!=4.0.0a1->fsspec[http]<=2025.3.0,>=2023.1.0->datasets) (0.3.1)\n",
      "Requirement already satisfied: yarl<2.0,>=1.17.0 in d:\\anaconda\\envs\\python3.9\\lib\\site-packages (from aiohttp!=4.0.0a0,!=4.0.0a1->fsspec[http]<=2025.3.0,>=2023.1.0->datasets) (1.20.0)\n",
      "Requirement already satisfied: six>=1.5 in d:\\anaconda\\envs\\python3.9\\lib\\site-packages (from python-dateutil>=2.8.2->pandas->datasets) (1.16.0)\n"
     ]
    }
   ],
   "source": [
    "!pip install datasets"
   ]
  },
  {
   "cell_type": "code",
   "execution_count": 2,
   "id": "c2f611a6",
   "metadata": {},
   "outputs": [
    {
     "data": {
      "text/plain": [
       "<torch._C.Generator at 0x1b6b415a1b0>"
      ]
     },
     "execution_count": 2,
     "metadata": {},
     "output_type": "execute_result"
    }
   ],
   "source": [
    "import torch\n",
    "import torch.nn as nn\n",
    "import torch.nn.functional as F\n",
    "import torch.optim as optim\n",
    "from datasets import load_dataset\n",
    "import matplotlib.pyplot as plt\n",
    "%matplotlib inline\n",
    "\n",
    "\n",
    "torch.manual_seed(12046)"
   ]
  },
  {
   "cell_type": "code",
   "execution_count": 3,
   "id": "e634c60e",
   "metadata": {},
   "outputs": [],
   "source": [
    "# 定义超参\n",
    "learning_rate = 1e-3\n",
    "device = 'cuda' if torch.cuda.is_available() else 'cpu'"
   ]
  },
  {
   "cell_type": "code",
   "execution_count": 4,
   "id": "3a9c6c48",
   "metadata": {},
   "outputs": [
    {
     "name": "stderr",
     "output_type": "stream",
     "text": [
      "Using the latest cached version of the module from C:\\Users\\shrek\\.cache\\huggingface\\modules\\datasets_modules\\datasets\\code_search_net\\8f2524e6b62f65af5f5d65c53715c654db7b08dc93e0b7bcce2ab2f286a75be1 (last modified on Mon Jun 16 10:48:04 2025) since it couldn't be found locally at code_search_net, or remotely on the Hugging Face Hub.\n"
     ]
    }
   ],
   "source": [
    "raw_datasets = load_dataset('code_search_net', 'python')\n",
    "datasets = raw_datasets['train'].filter(lambda x: 'apache/spark' in x['repository_name'])"
   ]
  },
  {
   "cell_type": "code",
   "execution_count": 5,
   "id": "61638b7e",
   "metadata": {},
   "outputs": [],
   "source": [
    "class RNNCell(nn.Module):\n",
    "    \n",
    "    def __init__(self, input_size, hidden_size):\n",
    "        super().__init__()\n",
    "        self.input_size = input_size \n",
    "        self.hidden_size = hidden_size\n",
    "        self.i2h = nn.Linear((input_size + hidden_size), hidden_size)\n",
    "\n",
    "    def forward(self, input, hidden=None):\n",
    "        # input: (1, I)   I: 特征个数 = 文本嵌入里的 C\n",
    "        # hidden: (1, H)\n",
    "        if hidden is None:\n",
    "            hidden = self.init_hidden(input.device)\n",
    "        combined = torch.cat((input, hidden), dim=-1)  # (1, I + H)\n",
    "        hidden = F.relu(self.i2h(combined))            # (1,     H)\n",
    "        return hidden\n",
    "    \n",
    "    def init_hidden(self, device):\n",
    "        return torch.zeros((1, self.hidden_size), device=device)"
   ]
  },
  {
   "cell_type": "code",
   "execution_count": 6,
   "id": "5bb555d9",
   "metadata": {},
   "outputs": [
    {
     "name": "stdout",
     "output_type": "stream",
     "text": [
      "tensor([[0.0973, 0.0144, 0.0000]], grad_fn=<ReluBackward0>)\n",
      "tensor([[0.0000, 0.0000, 0.4002]], grad_fn=<ReluBackward0>)\n",
      "tensor([[0.0000, 0.3787, 0.0000]], grad_fn=<ReluBackward0>)\n",
      "tensor([[0.0218, 0.1896, 0.0000]], grad_fn=<ReluBackward0>)\n"
     ]
    }
   ],
   "source": [
    "r_model = RNNCell(2, 3)\n",
    "x = torch.randn(4, 1, 2) # 文本个数是4， 单词个数是1， 词向量维度(特征维度)是2\n",
    "hidden = None\n",
    "\n",
    "for i in range(x.shape[0]):\n",
    "    hidden = r_model(x[i], hidden)\n",
    "    print(hidden)"
   ]
  },
  {
   "cell_type": "code",
   "execution_count": 7,
   "id": "f550f190",
   "metadata": {},
   "outputs": [],
   "source": [
    "class CharRNN(nn.Module):\n",
    "    def __init__(self, vs): # vs: vocab_size\n",
    "        super().__init__()\n",
    "        self.emb = nn.Embedding(vs, 30) # (1, 30)\n",
    "        self.rnn = RNNCell(30, 50)\n",
    "        self.lm = nn.Linear(50, vs) # (1, vs)\n",
    "\n",
    "    def forward(self, input, hidden=None):\n",
    "        # input: (1, 1)\n",
    "        # hidden: (1, 50)\n",
    "        embedding = self.emb(input) # (1, 30)\n",
    "        hidden = self.rnn(embedding, hidden) # (1, 50)\n",
    "        output = self.lm(hidden) # (1, vs)\n",
    "        return output, hidden"
   ]
  },
  {
   "cell_type": "code",
   "execution_count": 8,
   "id": "5bdba9dc",
   "metadata": {},
   "outputs": [],
   "source": [
    "class CharTokenizer:\n",
    "    def __init__(self, data, end_ind=0):\n",
    "        # data : list[str]\n",
    "        chars = sorted(list(set(\"\".join(data))))\n",
    "        self.char2ind = {char: i + 1 for i, char in enumerate(chars)}\n",
    "        # self.char2ind[\"<|b|>\"] = begin_ind\n",
    "        self.char2ind[\"<|e|>\"] = end_ind\n",
    "        self.ind2char = {i: char for char, i in self.char2ind.items()}\n",
    "        # self.begin_ind = begin_ind\n",
    "        self.end_ind = end_ind\n",
    "\n",
    "    def encode(self, text):\n",
    "        # text : str\n",
    "        return [self.char2ind[i] for i in text]\n",
    "\n",
    "    def decode(self, inds):\n",
    "        # inds : list[int] or int\n",
    "        if isinstance(inds, int):\n",
    "            inds = [inds]\n",
    "        return [self.ind2char[i] for i in inds]"
   ]
  },
  {
   "cell_type": "code",
   "execution_count": 9,
   "id": "51c804b1",
   "metadata": {},
   "outputs": [],
   "source": [
    "tokenizer = CharTokenizer(datasets['whole_func_string'])\n",
    "test_str = 'def f(x):'"
   ]
  },
  {
   "cell_type": "code",
   "execution_count": 10,
   "id": "910c46d8",
   "metadata": {},
   "outputs": [
    {
     "name": "stdout",
     "output_type": "stream",
     "text": [
      "[70, 71, 72, 2, 72, 10, 90, 11, 28]\n"
     ]
    },
    {
     "data": {
      "text/plain": [
       "'<|e|>\\n !\"#$%&\\'()*+,-./0123456789:;<=>?@ABCDEFGHIJKLMNOPQRSTUVWXYZ[\\\\]^_`abcdefghijklmnopqrstuvwxyz{|}~ö'"
      ]
     },
     "execution_count": 10,
     "metadata": {},
     "output_type": "execute_result"
    }
   ],
   "source": [
    "re = tokenizer.encode(test_str)\n",
    "print(re)\n",
    "''.join(tokenizer.decode(re))\n",
    "''.join(tokenizer.decode(range(len(tokenizer.char2ind))))"
   ]
  },
  {
   "cell_type": "code",
   "execution_count": 11,
   "id": "2621c0ee",
   "metadata": {},
   "outputs": [
    {
     "data": {
      "text/plain": [
       "CharRNN(\n",
       "  (emb): Embedding(98, 30)\n",
       "  (rnn): RNNCell(\n",
       "    (i2h): Linear(in_features=80, out_features=50, bias=True)\n",
       "  )\n",
       "  (lm): Linear(in_features=50, out_features=98, bias=True)\n",
       ")"
      ]
     },
     "execution_count": 11,
     "metadata": {},
     "output_type": "execute_result"
    }
   ],
   "source": [
    "c_model = CharRNN(len(tokenizer.char2ind)).to(device)\n",
    "c_model"
   ]
  },
  {
   "cell_type": "code",
   "execution_count": 12,
   "id": "32e94ba1",
   "metadata": {},
   "outputs": [
    {
     "data": {
      "text/plain": [
       "(torch.Size([1, 98]), torch.Size([1, 50]))"
      ]
     },
     "execution_count": 12,
     "metadata": {},
     "output_type": "execute_result"
    }
   ],
   "source": [
    "# 测试数据\n",
    "test_inputs = torch.tensor(tokenizer.encode('d'), device=device)\n",
    "output, hidden = c_model(test_inputs)\n",
    "output.shape, hidden.shape"
   ]
  },
  {
   "cell_type": "code",
   "execution_count": 13,
   "id": "8245362b",
   "metadata": {},
   "outputs": [],
   "source": [
    "# 实现一个生成函数\n",
    "@torch.no_grad()\n",
    "def generate(model, idx, tokenizer, max_tokens=300):\n",
    "    # idx: (1,)\n",
    "    out = idx.tolist()\n",
    "    hidden = None\n",
    "    model.eval()\n",
    "    for _ in range(max_tokens):\n",
    "        outputs, hidden = model(idx, hidden)\n",
    "        probs = F.softmax(outputs, dim=-1) # (1, 99)\n",
    "        # 随机生成下一个token\n",
    "        next_token = torch.multinomial(probs, num_samples=1) # (1, 1)\n",
    "        out.append(next_token.item())\n",
    "        idx = next_token.squeeze(0)\n",
    "        if out[-1] == tokenizer.end_ind:\n",
    "            break\n",
    "    model.train()\n",
    "    return out"
   ]
  },
  {
   "cell_type": "code",
   "execution_count": 14,
   "id": "ec1a8c4a",
   "metadata": {},
   "outputs": [
    {
     "name": "stdout",
     "output_type": "stream",
     "text": [
      "d*ZO(m/of(\"YP{BZE G|uw=3:1'Z$?Q9)N[{KQ=CK(AM:iKcaR;+Q3j<sAegWS$ö0Px!q9T3\"yum5Za)'W~]\\Wm&B\"({r\n",
      "cdtM=^DA11zk<|e|>\n"
     ]
    }
   ],
   "source": [
    "test_inputs = torch.tensor(tokenizer.encode('d'), device=device)\n",
    "print(''.join(tokenizer.decode(generate(c_model, test_inputs, tokenizer))))"
   ]
  },
  {
   "cell_type": "code",
   "execution_count": 15,
   "id": "50585d52",
   "metadata": {},
   "outputs": [],
   "source": [
    "# 数据处理 inputs and labels\n",
    "def process(text, tokenizer):\n",
    "    enc = tokenizer.encode(text)\n",
    "    inputs = enc\n",
    "    labels = enc[1:] + [tokenizer.end_ind]\n",
    "    return torch.tensor(inputs, device=device), torch.tensor(labels, device=device)"
   ]
  },
  {
   "cell_type": "code",
   "execution_count": 16,
   "id": "eeece45b",
   "metadata": {},
   "outputs": [
    {
     "data": {
      "text/plain": [
       "(tensor([70, 71, 72,  2, 72, 10, 90, 11, 28], device='cuda:0'),\n",
       " tensor([71, 72,  2, 72, 10, 90, 11, 28,  0], device='cuda:0'))"
      ]
     },
     "execution_count": 16,
     "metadata": {},
     "output_type": "execute_result"
    }
   ],
   "source": [
    "process(test_str, tokenizer)"
   ]
  },
  {
   "cell_type": "code",
   "execution_count": 19,
   "id": "823468e4",
   "metadata": {},
   "outputs": [],
   "source": [
    "# train\n",
    "epoches = 1\n",
    "lossi = []\n",
    "optimizer = optim.Adam(c_model.parameters(), lr=learning_rate)\n",
    "\n",
    "for epoch in range(epoches):\n",
    "    for data in datasets:\n",
    "        inputs, labels = process(data['whole_func_string'], tokenizer)\n",
    "        lens = len(inputs)\n",
    "        _loss = 0.0\n",
    "        hidden = None\n",
    "        for i in range(lens):\n",
    "            output, hidden = c_model(inputs[i].unsqueeze(0), hidden)  # 维度要等于1\n",
    "            _loss += F.cross_entropy(output, labels[i].unsqueeze(0)) / lens     # 维度要等于1\n",
    "        lossi.append(_loss.item())\n",
    "        optimizer.zero_grad()\n",
    "        _loss.backward()\n",
    "        optimizer.step()"
   ]
  },
  {
   "cell_type": "code",
   "execution_count": 22,
   "id": "aaf844c1",
   "metadata": {},
   "outputs": [
    {
     "name": "stdout",
     "output_type": "stream",
     "text": [
      "doprups.ese:\n",
      "         Lone theuat. = itue<|e|>\n"
     ]
    }
   ],
   "source": [
    "test_inputs = torch.tensor(tokenizer.encode('d'), device=device)\n",
    "print(''.join(tokenizer.decode(generate(c_model, test_inputs, tokenizer))))"
   ]
  },
  {
   "cell_type": "code",
   "execution_count": 23,
   "id": "0b33bb03",
   "metadata": {},
   "outputs": [
    {
     "data": {
      "text/plain": [
       "[<matplotlib.lines.Line2D at 0x1b77a38d9d0>]"
      ]
     },
     "execution_count": 23,
     "metadata": {},
     "output_type": "execute_result"
    },
    {
     "data": {
      "image/png": "[encoded data removed]",
      "text/plain": [
       "<Figure size 640x480 with 1 Axes>"
      ]
     },
     "metadata": {},
     "output_type": "display_data"
    }
   ],
   "source": [
    "plt.plot(lossi)"
   ]
  },
  {
   "cell_type": "code",
   "execution_count": null,
   "id": "3abf258c",
   "metadata": {},
   "outputs": [],
   "source": []
  }
 ],
 "metadata": {
  "kernelspec": {
   "display_name": "python3.9",
   "language": "python",
   "name": "python3"
  },
  "language_info": {
   "codemirror_mode": {
    "name": "ipython",
    "version": 3
   },
   "file_extension": ".py",
   "mimetype": "text/x-python",
   "name": "python",
   "nbconvert_exporter": "python",
   "pygments_lexer": "ipython3",
   "version": "3.9.20"
  }
 },
 "nbformat": 4,
 "nbformat_minor": 5
}
