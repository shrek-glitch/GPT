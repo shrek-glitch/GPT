{
 "cells": [
  {
   "cell_type": "code",
   "execution_count": 1,
   "id": "28c8d12f",
   "metadata": {},
   "outputs": [],
   "source": [
    "import torch\n",
    "import torch.nn as nn\n",
    "import torch.nn.functional as F\n",
    "import string"
   ]
  },
  {
   "cell_type": "code",
   "execution_count": 2,
   "id": "e438d8e2",
   "metadata": {},
   "outputs": [
    {
     "data": {
      "text/plain": [
       "{'a': 0,\n",
       " 'b': 1,\n",
       " 'c': 2,\n",
       " 'd': 3,\n",
       " 'e': 4,\n",
       " 'f': 5,\n",
       " 'g': 6,\n",
       " 'h': 7,\n",
       " 'i': 8,\n",
       " 'j': 9,\n",
       " 'k': 10,\n",
       " 'l': 11,\n",
       " 'm': 12,\n",
       " 'n': 13,\n",
       " 'o': 14,\n",
       " 'p': 15,\n",
       " 'q': 16,\n",
       " 'r': 17,\n",
       " 's': 18,\n",
       " 't': 19,\n",
       " 'u': 20,\n",
       " 'v': 21,\n",
       " 'w': 22,\n",
       " 'x': 23,\n",
       " 'y': 24,\n",
       " 'z': 25}"
      ]
     },
     "execution_count": 2,
     "metadata": {},
     "output_type": "execute_result"
    }
   ],
   "source": [
    "# 定义字典\n",
    "char2indx = {s: i for i, s in enumerate(string.ascii_lowercase)}\n",
    "char2indx"
   ]
  },
  {
   "cell_type": "code",
   "execution_count": 3,
   "id": "d45bef70",
   "metadata": {},
   "outputs": [
    {
     "name": "stdout",
     "output_type": "stream",
     "text": [
      "tensor([11, 14, 21,  4])\n"
     ]
    }
   ],
   "source": [
    "text = 'love'\n",
    "idx = []\n",
    "\n",
    "for i in text:\n",
    "    idx.append(char2indx[i])\n",
    "\n",
    "idx = torch.tensor(idx)\n",
    "print(idx)"
   ]
  },
  {
   "cell_type": "code",
   "execution_count": 4,
   "id": "03af659e",
   "metadata": {},
   "outputs": [
    {
     "data": {
      "text/plain": [
       "(tensor([[0., 0., 0., 0., 0., 0., 0., 0., 0., 0., 0., 1., 0., 0., 0., 0., 0., 0.,\n",
       "          0., 0., 0., 0., 0., 0., 0., 0.],\n",
       "         [0., 0., 0., 0., 0., 0., 0., 0., 0., 0., 0., 0., 0., 0., 1., 0., 0., 0.,\n",
       "          0., 0., 0., 0., 0., 0., 0., 0.],\n",
       "         [0., 0., 0., 0., 0., 0., 0., 0., 0., 0., 0., 0., 0., 0., 0., 0., 0., 0.,\n",
       "          0., 0., 0., 1., 0., 0., 0., 0.],\n",
       "         [0., 0., 0., 0., 1., 0., 0., 0., 0., 0., 0., 0., 0., 0., 0., 0., 0., 0.,\n",
       "          0., 0., 0., 0., 0., 0., 0., 0.]]),\n",
       " torch.Size([4, 26]))"
      ]
     },
     "execution_count": 4,
     "metadata": {},
     "output_type": "execute_result"
    }
   ],
   "source": [
    "# one-hot encoder\n",
    "num_claz = len(char2indx.keys())\n",
    "x = F.one_hot(idx, num_classes=num_claz).float()\n",
    "x, x.shape"
   ]
  },
  {
   "cell_type": "code",
   "execution_count": 5,
   "id": "b23dbb91",
   "metadata": {},
   "outputs": [
    {
     "data": {
      "text/plain": [
       "(tensor([[-0.5771, -1.0227, -0.9692,  2.1244, -0.3939],\n",
       "         [ 0.7798, -0.7712, -0.0867,  0.4978,  0.7771],\n",
       "         [-1.5788, -0.7548, -0.5611, -0.0323,  0.3460],\n",
       "         [ 0.6548, -1.5422,  0.9235,  0.7958, -0.3580]]),\n",
       " torch.Size([4, 5]))"
      ]
     },
     "execution_count": 5,
     "metadata": {},
     "output_type": "execute_result"
    }
   ],
   "source": [
    "dims = 5\n",
    "w = torch.randn(num_claz, dims)\n",
    "(x @ w), (x @ w).shape"
   ]
  },
  {
   "cell_type": "code",
   "execution_count": 6,
   "id": "8f2eee84",
   "metadata": {},
   "outputs": [
    {
     "data": {
      "text/plain": [
       "(tensor([[-0.5771, -1.0227, -0.9692,  2.1244, -0.3939],\n",
       "         [ 0.7798, -0.7712, -0.0867,  0.4978,  0.7771],\n",
       "         [-1.5788, -0.7548, -0.5611, -0.0323,  0.3460],\n",
       "         [ 0.6548, -1.5422,  0.9235,  0.7958, -0.3580]]),\n",
       " torch.Size([4, 5]))"
      ]
     },
     "execution_count": 6,
     "metadata": {},
     "output_type": "execute_result"
    }
   ],
   "source": [
    "w[idx], w[idx].shape"
   ]
  },
  {
   "cell_type": "code",
   "execution_count": 7,
   "id": "7edd4ee8",
   "metadata": {},
   "outputs": [],
   "source": [
    "class Embedding:\n",
    "    def __init__(self, num_classes, embedding_dim):\n",
    "        self.weights = torch.randn((num_classes, embedding_dim), requires_grad=True)\n",
    "\n",
    "    def __call__(self, x):\n",
    "        return self.weights[x]\n",
    "\n",
    "    def parameters(self):\n",
    "        return [self.weights]"
   ]
  },
  {
   "cell_type": "code",
   "execution_count": 8,
   "id": "86a130b0",
   "metadata": {},
   "outputs": [
    {
     "data": {
      "text/plain": [
       "torch.Size([10, 5])"
      ]
     },
     "execution_count": 8,
     "metadata": {},
     "output_type": "execute_result"
    }
   ],
   "source": [
    "em = Embedding(num_claz, 5)\n",
    "x = torch.randint(0, num_claz, (10, ))\n",
    "em(x).shape"
   ]
  },
  {
   "cell_type": "code",
   "execution_count": 9,
   "id": "a414e0b4",
   "metadata": {},
   "outputs": [
    {
     "data": {
      "text/plain": [
       "(torch.Size([20, 10, 5]),\n",
       " tensor([[11,  7,  0, 15,  1,  5, 17, 16, 19,  1],\n",
       "         [14, 24, 23,  2,  8, 22, 24, 20, 10, 10],\n",
       "         [23,  4,  6, 15,  0, 24, 17, 13, 16, 13],\n",
       "         [ 6,  1, 11,  1,  7, 25, 24, 10, 14,  5],\n",
       "         [24,  0, 18,  7, 22, 24, 21,  8,  4,  9],\n",
       "         [20, 16, 12, 18, 17, 11, 18, 12,  0, 24],\n",
       "         [22, 18, 20, 17, 21,  3, 22,  1, 17, 24],\n",
       "         [15,  9, 16,  9, 23,  1, 18,  3, 14,  2],\n",
       "         [ 5,  3, 16, 18,  2, 11,  9, 22, 14, 14],\n",
       "         [24, 16, 19,  9,  9, 14, 18,  2, 14, 18],\n",
       "         [ 4, 16, 20, 18, 22, 11, 19,  6, 11, 18],\n",
       "         [25, 10,  2,  0, 24,  1, 15, 22,  3,  8],\n",
       "         [ 8,  4, 16,  8, 11, 14, 16,  9,  3,  3],\n",
       "         [25,  0,  9, 24, 24, 10, 10, 17,  6, 15],\n",
       "         [13,  7,  1, 14, 18, 25,  8,  1,  7, 13],\n",
       "         [15,  4, 24, 10,  0, 14, 17, 18,  1,  9],\n",
       "         [12, 10,  4, 10, 21, 14, 22, 14, 13,  5],\n",
       "         [12,  3,  0, 16,  0,  4, 22, 24,  9, 18],\n",
       "         [11, 16,  1,  4, 23, 23, 23, 19, 16, 16],\n",
       "         [12, 14, 24, 11,  4, 14, 23, 25, 10, 16]]))"
      ]
     },
     "execution_count": 9,
     "metadata": {},
     "output_type": "execute_result"
    }
   ],
   "source": [
    "x = torch.randint(0, num_claz, (20, 10))\n",
    "em(x).shape, x"
   ]
  },
  {
   "cell_type": "markdown",
   "id": "a9633eb3",
   "metadata": {},
   "source": [
    "### 自回归模型"
   ]
  },
  {
   "cell_type": "code",
   "execution_count": 10,
   "id": "f594253b",
   "metadata": {},
   "outputs": [
    {
     "data": {
      "text/plain": [
       "True"
      ]
     },
     "execution_count": 10,
     "metadata": {},
     "output_type": "execute_result"
    }
   ],
   "source": [
    "torch.cuda.is_available()"
   ]
  },
  {
   "cell_type": "code",
   "execution_count": 11,
   "id": "03613bca",
   "metadata": {},
   "outputs": [
    {
     "name": "stdout",
     "output_type": "stream",
     "text": [
      "_CudaDeviceProperties(name='NVIDIA GeForce RTX 4060 Laptop GPU', major=8, minor=9, total_memory=8187MB, multi_processor_count=24, uuid=8f8c63b0-9251-bdcc-0973-c237f282b5b5, L2_cache_size=32MB)\n"
     ]
    }
   ],
   "source": [
    "# 打印GPU信息\n",
    "for i in range(torch.cuda.device_count()):\n",
    "    print(torch.cuda.get_device_properties(i))"
   ]
  },
  {
   "cell_type": "code",
   "execution_count": 12,
   "id": "3f919aa7",
   "metadata": {},
   "outputs": [
    {
     "data": {
      "text/plain": [
       "<torch._C.Generator at 0x16db414e470>"
      ]
     },
     "execution_count": 12,
     "metadata": {},
     "output_type": "execute_result"
    }
   ],
   "source": [
    "import torch.optim as optim\n",
    "from torch.utils.data import DataLoader\n",
    "from datasets import load_dataset\n",
    "import matplotlib.pyplot as plt\n",
    "\n",
    "torch.manual_seed(12046)"
   ]
  },
  {
   "cell_type": "code",
   "execution_count": 13,
   "id": "c875b935",
   "metadata": {},
   "outputs": [],
   "source": [
    "device = 'cuda' if torch.cuda.is_available else 'cpu'\n",
    "batch_size = 1000\n",
    "learning_rate = 0.01\n",
    "eval_iters = 10"
   ]
  },
  {
   "cell_type": "code",
   "execution_count": 14,
   "id": "c193dbc8",
   "metadata": {},
   "outputs": [
    {
     "name": "stderr",
     "output_type": "stream",
     "text": [
      "Using the latest cached version of the module from C:\\Users\\shrek\\.cache\\huggingface\\modules\\datasets_modules\\datasets\\code_search_net\\8f2524e6b62f65af5f5d65c53715c654db7b08dc93e0b7bcce2ab2f286a75be1 (last modified on Mon Jun 16 10:48:04 2025) since it couldn't be found locally at code_search_net, or remotely on the Hugging Face Hub.\n"
     ]
    }
   ],
   "source": [
    "raw_datasets = load_dataset('code_search_net', 'python', trust_remote_code=True)\n",
    "datasets = raw_datasets['train'].filter(lambda x: 'apache/spark' in x['repository_name'])"
   ]
  },
  {
   "cell_type": "code",
   "execution_count": 15,
   "id": "64a9fd32",
   "metadata": {},
   "outputs": [
    {
     "name": "stdout",
     "output_type": "stream",
     "text": [
      "def to_arrow_schema(schema):\n",
      "    \"\"\" Convert a schema from Spark to Arrow\n",
      "    \"\"\"\n",
      "    import pyarrow as pa\n",
      "    fields = [pa.field(field.name, to_arrow_type(field.dataType), nullable=field.nullable)\n",
      "              for field in schema]\n",
      "    return pa.schema(fields)\n"
     ]
    }
   ],
   "source": [
    "print(datasets[8]['whole_func_string'])"
   ]
  },
  {
   "cell_type": "code",
   "execution_count": 16,
   "id": "9a741a5e",
   "metadata": {},
   "outputs": [],
   "source": [
    "class CharTokenizer:\n",
    "    def __init__(self, data, begin_ind=0, end_ind=1):\n",
    "        # data : list[str]\n",
    "        chars = sorted(list(set(\"\".join(data))))\n",
    "        self.char2ind = {char: i + 2 for i, char in enumerate(chars)}\n",
    "        self.char2ind[\"<|b|>\"] = begin_ind\n",
    "        self.char2ind[\"<|e|>\"] = end_ind\n",
    "        self.ind2char = {i: char for char, i in self.char2ind.items()}\n",
    "        self.begin_ind = begin_ind\n",
    "        self.end_ind = end_ind\n",
    "\n",
    "    def encode(self, text):\n",
    "        # text : str\n",
    "        return [self.char2ind[i] for i in text]\n",
    "\n",
    "    def decode(self, inds):\n",
    "        # inds : list[int] or int\n",
    "        if isinstance(inds, int):\n",
    "            inds = [inds]\n",
    "        return [self.ind2char[i] for i in inds]"
   ]
  },
  {
   "cell_type": "code",
   "execution_count": 17,
   "id": "3b0acb73",
   "metadata": {},
   "outputs": [],
   "source": [
    "tokenizer = CharTokenizer(datasets['whole_func_string'])"
   ]
  },
  {
   "cell_type": "code",
   "execution_count": 18,
   "id": "48c519c3",
   "metadata": {},
   "outputs": [
    {
     "data": {
      "text/plain": [
       "[71, 72, 73, 3, 73, 11, 91, 12, 29]"
      ]
     },
     "execution_count": 18,
     "metadata": {},
     "output_type": "execute_result"
    }
   ],
   "source": [
    "# 验证\n",
    "text = \"def f(x):\"\n",
    "re = tokenizer.encode(text)\n",
    "re"
   ]
  },
  {
   "cell_type": "code",
   "execution_count": 19,
   "id": "73aa6ed2",
   "metadata": {},
   "outputs": [
    {
     "data": {
      "text/plain": [
       "'def f(x):'"
      ]
     },
     "execution_count": 19,
     "metadata": {},
     "output_type": "execute_result"
    }
   ],
   "source": [
    "''.join(tokenizer.decode(re))"
   ]
  },
  {
   "cell_type": "code",
   "execution_count": 20,
   "id": "b93fbb24",
   "metadata": {},
   "outputs": [],
   "source": [
    "def autoregressive_trans(text, tokenizer, context_len=10):\n",
    "    inputs, labels = [], []\n",
    "    bind = tokenizer.begin_ind\n",
    "    eind = tokenizer.end_ind\n",
    "    enc = tokenizer.encode(text)\n",
    "    data = [bind] * context_len + enc + [eind]\n",
    "    for i in range(len(data) - context_len):\n",
    "        inputs.append(data[i : i + context_len])\n",
    "        labels.append(data[i + context_len])\n",
    "    return inputs, labels"
   ]
  },
  {
   "cell_type": "code",
   "execution_count": 21,
   "id": "40891542",
   "metadata": {},
   "outputs": [
    {
     "data": {
      "text/plain": [
       "([[0, 0, 0],\n",
       "  [0, 0, 71],\n",
       "  [0, 71, 72],\n",
       "  [71, 72, 73],\n",
       "  [72, 73, 3],\n",
       "  [73, 3, 73],\n",
       "  [3, 73, 11],\n",
       "  [73, 11, 91],\n",
       "  [11, 91, 12],\n",
       "  [91, 12, 29]],\n",
       " [71, 72, 73, 3, 73, 11, 91, 12, 29, 1])"
      ]
     },
     "execution_count": 21,
     "metadata": {},
     "output_type": "execute_result"
    }
   ],
   "source": [
    "inputs, labels = autoregressive_trans(text, tokenizer, 3)\n",
    "inputs, labels"
   ]
  },
  {
   "cell_type": "code",
   "execution_count": 22,
   "id": "d1b6ade4",
   "metadata": {},
   "outputs": [
    {
     "name": "stdout",
     "output_type": "stream",
     "text": [
      "<|b|><|b|><|b|> ---------> d\n",
      "<|b|><|b|>d ---------> e\n",
      "<|b|>de ---------> f\n",
      "def --------->  \n",
      "ef  ---------> f\n",
      "f f ---------> (\n",
      " f( ---------> x\n",
      "f(x ---------> )\n",
      "(x) ---------> :\n",
      "x): ---------> <|e|>\n"
     ]
    }
   ],
   "source": [
    "for a, b in zip(inputs, labels):\n",
    "    print(f\"{''.join(tokenizer.decode(a))} ---------> {''.join(tokenizer.decode(b))}\")"
   ]
  },
  {
   "cell_type": "code",
   "execution_count": 23,
   "id": "be51932a",
   "metadata": {},
   "outputs": [],
   "source": [
    "def process(data, tokenizer):\n",
    "    text = data['whole_func_string']\n",
    "    if isinstance(text, str):\n",
    "        inputs, labels = autoregressive_trans(text, tokenizer)\n",
    "        return {\"inputs\": inputs, \"labels\": labels}\n",
    "    # data: list[str]\n",
    "    inputs, labels = [], []\n",
    "    for t in text:\n",
    "        i, l = autoregressive_trans(t, tokenizer)\n",
    "        inputs += i\n",
    "        labels += l\n",
    "    return {\"inputs\": inputs, \"labels\": labels}"
   ]
  },
  {
   "cell_type": "code",
   "execution_count": 24,
   "id": "447365c8",
   "metadata": {},
   "outputs": [
    {
     "data": {
      "text/plain": [
       "{'repository_name': 'apache/spark',\n",
       " 'func_path_in_repository': 'python/pyspark/rdd.py',\n",
       " 'func_name': 'RDD.zip',\n",
       " 'whole_func_string': 'def zip(self, other):\\n        \"\"\"\\n        Zips this RDD with another one, returning key-value pairs with the\\n        first element in each RDD second element in each RDD, etc. Assumes\\n        that the two RDDs have the same number of partitions and the same\\n        number of elements in each partition (e.g. one was made through\\n        a map on the other).\\n\\n        >>> x = sc.parallelize(range(0,5))\\n        >>> y = sc.parallelize(range(1000, 1005))\\n        >>> x.zip(y).collect()\\n        [(0, 1000), (1, 1001), (2, 1002), (3, 1003), (4, 1004)]\\n        \"\"\"\\n        def get_batch_size(ser):\\n            if isinstance(ser, BatchedSerializer):\\n                return ser.batchSize\\n            return 1  # not batched\\n\\n        def batch_as(rdd, batchSize):\\n            return rdd._reserialize(BatchedSerializer(PickleSerializer(), batchSize))\\n\\n        my_batch = get_batch_size(self._jrdd_deserializer)\\n        other_batch = get_batch_size(other._jrdd_deserializer)\\n        if my_batch != other_batch or not my_batch:\\n            # use the smallest batchSize for both of them\\n            batchSize = min(my_batch, other_batch)\\n            if batchSize <= 0:\\n                # auto batched or unlimited\\n                batchSize = 100\\n            other = batch_as(other, batchSize)\\n            self = batch_as(self, batchSize)\\n\\n        if self.getNumPartitions() != other.getNumPartitions():\\n            raise ValueError(\"Can only zip with RDD which has the same number of partitions\")\\n\\n        # There will be an Exception in JVM if there are different number\\n        # of items in each partitions.\\n        pairRDD = self._jrdd.zip(other._jrdd)\\n        deserializer = PairDeserializer(self._jrdd_deserializer,\\n                                        other._jrdd_deserializer)\\n        return RDD(pairRDD, self.ctx, deserializer)',\n",
       " 'language': 'python',\n",
       " 'func_code_string': 'def zip(self, other):\\n        \"\"\"\\n        Zips this RDD with another one, returning key-value pairs with the\\n        first element in each RDD second element in each RDD, etc. Assumes\\n        that the two RDDs have the same number of partitions and the same\\n        number of elements in each partition (e.g. one was made through\\n        a map on the other).\\n\\n        >>> x = sc.parallelize(range(0,5))\\n        >>> y = sc.parallelize(range(1000, 1005))\\n        >>> x.zip(y).collect()\\n        [(0, 1000), (1, 1001), (2, 1002), (3, 1003), (4, 1004)]\\n        \"\"\"\\n        def get_batch_size(ser):\\n            if isinstance(ser, BatchedSerializer):\\n                return ser.batchSize\\n            return 1  # not batched\\n\\n        def batch_as(rdd, batchSize):\\n            return rdd._reserialize(BatchedSerializer(PickleSerializer(), batchSize))\\n\\n        my_batch = get_batch_size(self._jrdd_deserializer)\\n        other_batch = get_batch_size(other._jrdd_deserializer)\\n        if my_batch != other_batch or not my_batch:\\n            # use the smallest batchSize for both of them\\n            batchSize = min(my_batch, other_batch)\\n            if batchSize <= 0:\\n                # auto batched or unlimited\\n                batchSize = 100\\n            other = batch_as(other, batchSize)\\n            self = batch_as(self, batchSize)\\n\\n        if self.getNumPartitions() != other.getNumPartitions():\\n            raise ValueError(\"Can only zip with RDD which has the same number of partitions\")\\n\\n        # There will be an Exception in JVM if there are different number\\n        # of items in each partitions.\\n        pairRDD = self._jrdd.zip(other._jrdd)\\n        deserializer = PairDeserializer(self._jrdd_deserializer,\\n                                        other._jrdd_deserializer)\\n        return RDD(pairRDD, self.ctx, deserializer)',\n",
       " 'func_code_tokens': ['def',\n",
       "  'zip',\n",
       "  '(',\n",
       "  'self',\n",
       "  ',',\n",
       "  'other',\n",
       "  ')',\n",
       "  ':',\n",
       "  'def',\n",
       "  'get_batch_size',\n",
       "  '(',\n",
       "  'ser',\n",
       "  ')',\n",
       "  ':',\n",
       "  'if',\n",
       "  'isinstance',\n",
       "  '(',\n",
       "  'ser',\n",
       "  ',',\n",
       "  'BatchedSerializer',\n",
       "  ')',\n",
       "  ':',\n",
       "  'return',\n",
       "  'ser',\n",
       "  '.',\n",
       "  'batchSize',\n",
       "  'return',\n",
       "  '1',\n",
       "  '# not batched',\n",
       "  'def',\n",
       "  'batch_as',\n",
       "  '(',\n",
       "  'rdd',\n",
       "  ',',\n",
       "  'batchSize',\n",
       "  ')',\n",
       "  ':',\n",
       "  'return',\n",
       "  'rdd',\n",
       "  '.',\n",
       "  '_reserialize',\n",
       "  '(',\n",
       "  'BatchedSerializer',\n",
       "  '(',\n",
       "  'PickleSerializer',\n",
       "  '(',\n",
       "  ')',\n",
       "  ',',\n",
       "  'batchSize',\n",
       "  ')',\n",
       "  ')',\n",
       "  'my_batch',\n",
       "  '=',\n",
       "  'get_batch_size',\n",
       "  '(',\n",
       "  'self',\n",
       "  '.',\n",
       "  '_jrdd_deserializer',\n",
       "  ')',\n",
       "  'other_batch',\n",
       "  '=',\n",
       "  'get_batch_size',\n",
       "  '(',\n",
       "  'other',\n",
       "  '.',\n",
       "  '_jrdd_deserializer',\n",
       "  ')',\n",
       "  'if',\n",
       "  'my_batch',\n",
       "  '!=',\n",
       "  'other_batch',\n",
       "  'or',\n",
       "  'not',\n",
       "  'my_batch',\n",
       "  ':',\n",
       "  '# use the smallest batchSize for both of them',\n",
       "  'batchSize',\n",
       "  '=',\n",
       "  'min',\n",
       "  '(',\n",
       "  'my_batch',\n",
       "  ',',\n",
       "  'other_batch',\n",
       "  ')',\n",
       "  'if',\n",
       "  'batchSize',\n",
       "  '<=',\n",
       "  '0',\n",
       "  ':',\n",
       "  '# auto batched or unlimited',\n",
       "  'batchSize',\n",
       "  '=',\n",
       "  '100',\n",
       "  'other',\n",
       "  '=',\n",
       "  'batch_as',\n",
       "  '(',\n",
       "  'other',\n",
       "  ',',\n",
       "  'batchSize',\n",
       "  ')',\n",
       "  'self',\n",
       "  '=',\n",
       "  'batch_as',\n",
       "  '(',\n",
       "  'self',\n",
       "  ',',\n",
       "  'batchSize',\n",
       "  ')',\n",
       "  'if',\n",
       "  'self',\n",
       "  '.',\n",
       "  'getNumPartitions',\n",
       "  '(',\n",
       "  ')',\n",
       "  '!=',\n",
       "  'other',\n",
       "  '.',\n",
       "  'getNumPartitions',\n",
       "  '(',\n",
       "  ')',\n",
       "  ':',\n",
       "  'raise',\n",
       "  'ValueError',\n",
       "  '(',\n",
       "  '\"Can only zip with RDD which has the same number of partitions\"',\n",
       "  ')',\n",
       "  '# There will be an Exception in JVM if there are different number',\n",
       "  '# of items in each partitions.',\n",
       "  'pairRDD',\n",
       "  '=',\n",
       "  'self',\n",
       "  '.',\n",
       "  '_jrdd',\n",
       "  '.',\n",
       "  'zip',\n",
       "  '(',\n",
       "  'other',\n",
       "  '.',\n",
       "  '_jrdd',\n",
       "  ')',\n",
       "  'deserializer',\n",
       "  '=',\n",
       "  'PairDeserializer',\n",
       "  '(',\n",
       "  'self',\n",
       "  '.',\n",
       "  '_jrdd_deserializer',\n",
       "  ',',\n",
       "  'other',\n",
       "  '.',\n",
       "  '_jrdd_deserializer',\n",
       "  ')',\n",
       "  'return',\n",
       "  'RDD',\n",
       "  '(',\n",
       "  'pairRDD',\n",
       "  ',',\n",
       "  'self',\n",
       "  '.',\n",
       "  'ctx',\n",
       "  ',',\n",
       "  'deserializer',\n",
       "  ')'],\n",
       " 'func_documentation_string': 'Zips this RDD with another one, returning key-value pairs with the\\n        first element in each RDD second element in each RDD, etc. Assumes\\n        that the two RDDs have the same number of partitions and the same\\n        number of elements in each partition (e.g. one was made through\\n        a map on the other).\\n\\n        >>> x = sc.parallelize(range(0,5))\\n        >>> y = sc.parallelize(range(1000, 1005))\\n        >>> x.zip(y).collect()\\n        [(0, 1000), (1, 1001), (2, 1002), (3, 1003), (4, 1004)]',\n",
       " 'func_documentation_tokens': ['Zips',\n",
       "  'this',\n",
       "  'RDD',\n",
       "  'with',\n",
       "  'another',\n",
       "  'one',\n",
       "  'returning',\n",
       "  'key',\n",
       "  '-',\n",
       "  'value',\n",
       "  'pairs',\n",
       "  'with',\n",
       "  'the',\n",
       "  'first',\n",
       "  'element',\n",
       "  'in',\n",
       "  'each',\n",
       "  'RDD',\n",
       "  'second',\n",
       "  'element',\n",
       "  'in',\n",
       "  'each',\n",
       "  'RDD',\n",
       "  'etc',\n",
       "  '.',\n",
       "  'Assumes',\n",
       "  'that',\n",
       "  'the',\n",
       "  'two',\n",
       "  'RDDs',\n",
       "  'have',\n",
       "  'the',\n",
       "  'same',\n",
       "  'number',\n",
       "  'of',\n",
       "  'partitions',\n",
       "  'and',\n",
       "  'the',\n",
       "  'same',\n",
       "  'number',\n",
       "  'of',\n",
       "  'elements',\n",
       "  'in',\n",
       "  'each',\n",
       "  'partition',\n",
       "  '(',\n",
       "  'e',\n",
       "  '.',\n",
       "  'g',\n",
       "  '.',\n",
       "  'one',\n",
       "  'was',\n",
       "  'made',\n",
       "  'through',\n",
       "  'a',\n",
       "  'map',\n",
       "  'on',\n",
       "  'the',\n",
       "  'other',\n",
       "  ')',\n",
       "  '.'],\n",
       " 'split_name': 'train',\n",
       " 'func_code_url': 'https://github.com/apache/spark/blob/618d6bff71073c8c93501ab7392c3cc579730f0b/python/pyspark/rdd.py#L2117-L2157'}"
      ]
     },
     "execution_count": 24,
     "metadata": {},
     "output_type": "execute_result"
    }
   ],
   "source": [
    "tokenized_data = datasets.train_test_split(test_size=0.1, seed=1024, shuffle=True)\n",
    "tokenized_data['train'][0]"
   ]
  },
  {
   "cell_type": "code",
   "execution_count": 25,
   "id": "d7c5d0fc",
   "metadata": {},
   "outputs": [],
   "source": [
    "# 数据转换\n",
    "f = lambda x: process(x, tokenizer)\n",
    "tokenized = tokenized_data.map(f, batched=True, remove_columns=datasets.column_names)\n",
    "tokenized.set_format(type='torch', device=device)"
   ]
  },
  {
   "cell_type": "code",
   "execution_count": 26,
   "id": "ec6b9aa7",
   "metadata": {},
   "outputs": [
    {
     "data": {
      "text/plain": [
       "DatasetDict({\n",
       "    train: Dataset({\n",
       "        features: ['inputs', 'labels'],\n",
       "        num_rows: 645401\n",
       "    })\n",
       "    test: Dataset({\n",
       "        features: ['inputs', 'labels'],\n",
       "        num_rows: 67049\n",
       "    })\n",
       "})"
      ]
     },
     "execution_count": 26,
     "metadata": {},
     "output_type": "execute_result"
    }
   ],
   "source": [
    "tokenized"
   ]
  },
  {
   "cell_type": "code",
   "execution_count": 27,
   "id": "06774b32",
   "metadata": {},
   "outputs": [
    {
     "name": "stdout",
     "output_type": "stream",
     "text": [
      "<class 'datasets.dataset_dict.DatasetDict'>\n",
      "{'inputs': Sequence(feature=Value(dtype='int64', id=None), length=-1, id=None), 'labels': Value(dtype='int64', id=None)}\n",
      "{'inputs': <class 'torch.Tensor'>, 'labels': <class 'torch.Tensor'>}\n"
     ]
    }
   ],
   "source": [
    "# 查看tokenized的基本结构\n",
    "print(type(tokenized))  # 可能是Dataset或DatasetDict\n",
    "\n",
    "# 如果是DatasetDict，查看train部分的结构\n",
    "if isinstance(tokenized, dict):\n",
    "    print(tokenized['train'].features)  # 显示列名和类型\n",
    "\n",
    "# 如果是单一Dataset，直接查看\n",
    "else:\n",
    "    print(tokenized.features)\n",
    "\n",
    "# 查看数据示例\n",
    "sample = tokenized['train'][0] if isinstance(tokenized, dict) else tokenized[0]\n",
    "print({k: type(v) for k, v in sample.items()})  # 确认每列的数据类型"
   ]
  },
  {
   "cell_type": "code",
   "execution_count": 28,
   "id": "b0300561",
   "metadata": {},
   "outputs": [
    {
     "data": {
      "text/plain": [
       "(torch.Size([645401, 10]), torch.Size([645401]))"
      ]
     },
     "execution_count": 28,
     "metadata": {},
     "output_type": "execute_result"
    }
   ],
   "source": [
    "tokenized['train']['inputs'].shape, tokenized['train']['labels'].shape"
   ]
  },
  {
   "cell_type": "code",
   "execution_count": 29,
   "id": "522e6570",
   "metadata": {},
   "outputs": [],
   "source": [
    "train_dataloader = DataLoader(tokenized['train'], batch_size=batch_size, shuffle=True)\n",
    "test_dataloader = DataLoader(tokenized['test'], batch_size=batch_size, shuffle=True)"
   ]
  },
  {
   "cell_type": "code",
   "execution_count": 30,
   "id": "29ed8476",
   "metadata": {},
   "outputs": [
    {
     "data": {
      "text/plain": [
       "{'inputs': tensor([[ 2,  3,  3,  ...,  3,  3, 85],\n",
       "         [72, 87, 36,  ..., 72, 81, 87],\n",
       "         [68, 81,  3,  ...,  3, 93, 76],\n",
       "         ...,\n",
       "         [ 3,  3,  3,  ..., 33, 33,  3],\n",
       "         [80, 51, 68,  ..., 76, 82, 81],\n",
       "         [ 5,  2,  3,  ..., 82, 88, 81]], device='cuda:0'),\n",
       " 'labels': tensor([72, 86, 83, 88, 72,  3,  3,  3, 38, 82, 82,  3, 87, 73,  3, 81, 54,  3,\n",
       "         12, 92, 39, 72, 87, 79, 83, 16,  3,  3, 29, 76,  3, 70, 88, 80, 81, 12,\n",
       "          5, 72, 26, 86, 17, 85,  3,  2,  3, 70,  3, 85,  2, 72, 69, 17, 80, 68,\n",
       "         76, 11, 15,  3, 76, 87,  3, 68,  2,  3, 38, 70, 81, 51, 87, 16,  3, 71,\n",
       "          5, 87,  3,  3, 85, 78,  3, 72,  3, 72, 72, 87, 81, 66, 15,  3, 87, 76,\n",
       "          2,  3,  2, 80, 72, 89, 75, 87, 85, 17, 72, 49, 72, 85, 87,  3, 86, 76,\n",
       "         72,  3,  2, 85,  1,  3,  3,  3,  3,  3, 82,  3,  3, 72,  3, 68,  3,  3,\n",
       "          3, 11, 33,  3, 81, 38, 70,  3, 72, 66, 81, 67, 92,  3, 79, 86,  3, 64,\n",
       "         85,  3, 82, 16, 89, 73, 73, 82, 71, 29, 72, 87, 75, 68, 14, 71, 75, 72,\n",
       "         85, 72, 72, 72, 72, 72,  3, 86,  3, 85, 71,  3,  3,  3, 82, 15, 74, 79,\n",
       "         82, 17, 89, 62, 11, 76,  3,  3, 79, 66, 80,  2,  3, 32, 80,  3, 12, 11,\n",
       "          3,  3, 85, 73,  3, 76,  3, 38,  3,  3, 15, 91,  3, 72, 68,  3, 81, 11,\n",
       "         10, 32, 86,  3, 72, 87, 76,  3, 17,  3,  2,  3,  2, 72,  3, 87, 20, 84,\n",
       "         68, 39, 87,  2, 86, 72, 44, 12, 87, 85,  3, 17, 58,  3, 16, 92, 85,  3,\n",
       "         72, 88,  3,  3,  3, 36, 72, 72, 72,  3, 85,  3,  3, 86, 86,  3, 87,  3,\n",
       "         72, 83,  5, 68, 79, 82, 81,  3, 76, 82, 29,  3, 15, 12, 85, 20, 87, 87,\n",
       "         68, 72, 25, 80, 86, 73, 76, 70, 40, 85, 10,  3,  3, 73, 72,  2,  3, 12,\n",
       "         73,  3,  3,  2, 79, 83, 86, 94, 81, 72,  3, 86,  5,  3, 73,  3, 15, 59,\n",
       "         82, 12, 75, 73, 71,  3, 81,  3, 85,  1, 73,  3,  3, 71, 70,  3, 66, 76,\n",
       "          3, 68, 29, 86,  3,  3, 64, 74, 87, 76, 87, 72, 85, 76,  3,  3,  3, 68,\n",
       "         80, 19, 82,  3, 39, 72, 76, 19,  3, 33, 12,  3, 33, 73, 89,  3, 68,  3,\n",
       "          5, 11, 44, 83, 86, 87, 85, 17, 79, 71,  3,  3,  3, 11,  3,  3,  3, 76,\n",
       "         85, 80,  3,  3, 72,  3, 67,  3, 16,  3, 17,  2,  2, 87,  3,  3,  3, 87,\n",
       "         82, 87, 82,  3,  3,  3, 20,  2, 86, 88, 68, 86, 73, 82, 12, 85, 76,  3,\n",
       "         11, 76,  5, 72, 72,  3, 90, 66,  3,  3, 76, 83,  3,  2, 81, 75, 71, 83,\n",
       "         68,  6, 68,  3, 86, 53,  3, 72, 66, 33, 88, 79, 83, 72, 85, 75, 87, 55,\n",
       "         76,  3, 92,  3,  3, 29, 80,  3, 87, 72, 79,  3, 10,  5, 71, 85,  3, 85,\n",
       "         68,  3, 82,  3, 81, 76, 66,  3, 33, 16, 76,  3,  3, 64, 75,  2, 72, 71,\n",
       "         76,  3,  3,  3, 72, 71,  3, 86, 82,  3, 69, 72, 44,  3, 79, 82, 83,  3,\n",
       "          2, 71, 76,  3,  3, 69, 81,  3,  3, 76, 15,  3, 74,  2, 17, 87, 71, 67,\n",
       "         85, 68, 72,  3,  3, 93, 79, 79, 57, 56, 72, 82, 87, 83, 29,  5,  3,  3,\n",
       "         68,  3, 83, 51, 71, 72, 95, 82, 68,  3,  3, 17, 87,  3, 85, 68, 32, 82,\n",
       "          3, 88,  2, 82,  3, 87, 81, 68,  3, 38, 80, 76,  3, 33, 86,  3,  3, 92,\n",
       "         39,  3, 76, 76, 87, 88, 32, 88,  3, 72,  3,  3, 72,  3,  3,  3, 72, 82,\n",
       "         82,  3,  3, 83,  2, 62, 82, 82, 17, 74,  3, 87, 15,  3, 80,  2, 72, 87,\n",
       "          3, 72, 86,  3, 72, 17,  3, 92, 82,  3, 80, 91, 87, 88, 85,  3, 82, 33,\n",
       "          3,  2, 87, 76, 72,  2,  3, 85, 12, 76, 68, 81,  3,  3, 76,  3, 73, 82,\n",
       "          3,  3, 86,  3,  3, 85, 68, 73, 86,  3,  3,  3, 82,  3, 68, 87, 86, 72,\n",
       "         72, 53,  3, 72, 81, 23, 68, 86, 87, 86, 71, 20,  3,  3, 76,  3,  3, 39,\n",
       "         69, 72, 68,  3, 68, 68, 41, 85, 82, 85, 23, 23,  3, 29,  3, 51, 78,  3,\n",
       "          3, 29,  3, 70, 80,  3, 58,  3,  3, 87, 82, 88, 51, 72, 76,  3, 87, 86,\n",
       "         66,  3, 85, 32, 72, 72,  3,  3,  3, 82, 33, 49,  2, 82, 79, 53, 71, 80,\n",
       "         80, 86, 66, 72, 89, 10,  3,  3, 33, 70,  3,  3, 68, 85, 72, 29,  3, 68,\n",
       "         66,  5,  3,  3,  3, 72, 88, 75, 70, 82,  5, 15, 82, 16, 76,  3, 14, 86,\n",
       "         72, 87,  3,  3,  3, 17,  3, 56,  3,  3, 68,  3,  3, 12, 79, 81,  3, 73,\n",
       "         33,  3, 66, 76, 29,  5, 71,  3, 89,  2, 74,  3, 81,  3, 66, 68,  3, 11,\n",
       "         82,  3, 80, 82, 81,  3, 87, 83,  3, 92, 70,  3, 86, 87,  3, 92,  3, 12,\n",
       "          3,  3, 72,  3,  3,  3, 71, 17, 95, 85, 87,  3, 20, 69, 68, 82, 12, 83,\n",
       "         86, 72, 68, 41, 81, 79, 75,  3,  3, 24,  3, 72,  3, 80, 86, 85, 82, 70,\n",
       "          3, 85, 81, 87, 17,  3, 14, 87, 15,  3, 72, 20, 47, 86, 68,  3,  3,  3,\n",
       "         85, 41, 16, 87, 73, 20,  3, 68, 74,  3, 72, 83, 56, 11, 20, 80, 76, 64,\n",
       "         64,  3, 80, 77, 86,  3, 40,  3, 73,  3, 55, 10, 71, 11, 12, 72, 83, 85,\n",
       "          3, 81, 82,  3, 86, 66, 87,  3, 92,  3, 72, 79,  3, 72, 82, 38, 80,  3,\n",
       "         71, 72, 83,  3, 66, 87, 85, 79, 71,  3, 87, 87, 90, 75, 53,  5,  3, 76,\n",
       "         76, 29, 17, 75,  3, 33,  3, 75, 72, 80,  3,  3, 72, 72,  5, 48,  3,  3,\n",
       "         85,  3, 68, 89,  3,  8, 10, 85, 86, 71], device='cuda:0')}"
      ]
     },
     "execution_count": 30,
     "metadata": {},
     "output_type": "execute_result"
    }
   ],
   "source": [
    "next(iter(train_dataloader))"
   ]
  },
  {
   "cell_type": "code",
   "execution_count": 31,
   "id": "d0204a32",
   "metadata": {},
   "outputs": [],
   "source": [
    "# 开始训练\n",
    "class CharMLP(nn.Module):\n",
    "    def __init__(self, vs):\n",
    "        super().__init__()\n",
    "        self.emb = nn.Embedding(vs, 30) # 30 个特征\n",
    "        self.hidden1 = nn.Linear(10 * 30, 200) # 10 * 30 输入，200 输出\n",
    "        self.hidden2 = nn.Linear(200, 100) # 200 输入，100 输出\n",
    "        self.out = nn.Linear(100, vs) # 100 输入，vs 输出\n",
    "    \n",
    "    def forward(self, x):\n",
    "        B = x.shape[0]\n",
    "        emb = self.emb(x) # 输入 x 经过 embedding 得到 emb\n",
    "        h = emb.view(B, -1) \n",
    "        h = F.relu(self.hidden1(h)) # (B, 200)\n",
    "        h = F.relu(self.hidden2(h)) # (B, 100)\n",
    "        out = self.out(h) # (B, vs)\n",
    "        return out"
   ]
  },
  {
   "cell_type": "code",
   "execution_count": 32,
   "id": "602032f1",
   "metadata": {},
   "outputs": [
    {
     "data": {
      "text/plain": [
       "CharMLP(\n",
       "  (emb): Embedding(99, 30)\n",
       "  (hidden1): Linear(in_features=300, out_features=200, bias=True)\n",
       "  (hidden2): Linear(in_features=200, out_features=100, bias=True)\n",
       "  (out): Linear(in_features=100, out_features=99, bias=True)\n",
       ")"
      ]
     },
     "execution_count": 32,
     "metadata": {},
     "output_type": "execute_result"
    }
   ],
   "source": [
    "model = CharMLP(len(tokenizer.char2ind)).to(device)\n",
    "model"
   ]
  },
  {
   "cell_type": "code",
   "execution_count": 34,
   "id": "239becbd",
   "metadata": {},
   "outputs": [
    {
     "data": {
      "text/plain": [
       "{'train': 4.595234394073486, 'test': 4.595566272735596}"
      ]
     },
     "execution_count": 34,
     "metadata": {},
     "output_type": "execute_result"
    }
   ],
   "source": [
    "criterion = F.cross_entropy\n",
    "\n",
    "# 计算损失\n",
    "def estimate_loss(model):\n",
    "    model.eval()\n",
    "    re = {}\n",
    "    with torch.no_grad():\n",
    "        re['train'] = _loss(model, train_dataloader)\n",
    "        re['test'] = _loss(model, test_dataloader)\n",
    "    model.train()\n",
    "    return re\n",
    "\n",
    "@torch.no_grad()\n",
    "def _loss(model, dataloader):\n",
    "    total_loss = []\n",
    "    data_iter = iter(dataloader)\n",
    "    for k in range(eval_iters): # 手动控制批次数量\n",
    "        data = next(data_iter, None)\n",
    "        if data is None:\n",
    "            data_iter = iter(dataloader)\n",
    "            data = next(data_iter, None)\n",
    "        inputs, labels = data['inputs'], data['labels']\n",
    "        outputs = model(inputs)\n",
    "        loss = criterion(outputs, labels)\n",
    "        total_loss.append(loss.item())\n",
    "    return torch.tensor(total_loss).mean().item()\n",
    "\n",
    "estimate_loss(model)"
   ]
  },
  {
   "cell_type": "code",
   "execution_count": 35,
   "id": "8d8abc76",
   "metadata": {},
   "outputs": [],
   "source": [
    "def train(model, optimizer, epochs=10):\n",
    "    lossi = []\n",
    "    for epoch in range(epochs):\n",
    "        for i, data in enumerate(train_dataloader):\n",
    "            inputs, labels = data['inputs'], data['labels']\n",
    "            optimizer.zero_grad()\n",
    "            outputs = model(inputs)\n",
    "            loss = F.cross_entropy(outputs, labels)\n",
    "            loss.backward()\n",
    "            optimizer.step()\n",
    "            lossi.append(loss.item())\n",
    "        stats = estimate_loss(model)\n",
    "        train_loss = f\"{stats['train']:.4f}\"\n",
    "        test_loss = f\"{stats['test']:.4f}\"\n",
    "        print(f\"Epoch {epoch+1}/{epochs} | Train Loss: {train_loss} | Test Loss: {test_loss}\")\n",
    "    return lossi"
   ]
  },
  {
   "cell_type": "code",
   "execution_count": 36,
   "id": "4f9fe08b",
   "metadata": {},
   "outputs": [],
   "source": [
    "@torch.no_grad()\n",
    "def generate(model, context, tokenizer, max_tokens=300):\n",
    "    out = []\n",
    "    model.eval()\n",
    "    for _ in range(max_tokens):\n",
    "        outputs = model(context)\n",
    "        probs = F.softmax(outputs, dim=-1) # (1, 99)\n",
    "        # 随机生成下一个token\n",
    "        next_token = torch.multinomial(probs, num_samples=1) # (1, 1)\n",
    "        # 滑动窗口更新context\n",
    "        context = torch.concat((context[:, 1:], next_token), dim=-1)\n",
    "        out.append(next_token.item())\n",
    "        if out[-1] == tokenizer.end_ind:\n",
    "            break\n",
    "    model.train()\n",
    "    return out"
   ]
  },
  {
   "cell_type": "code",
   "execution_count": 42,
   "id": "52c28937",
   "metadata": {},
   "outputs": [
    {
     "name": "stdout",
     "output_type": "stream",
     "text": [
      "P|3vK9I}I8/^dAyp}LA]fwx\n",
      "J6`M-n/}`O24+v4Yp?T/Cq)4/\n",
      "'|maKnh}BöH<|e|>\n"
     ]
    }
   ],
   "source": [
    "context = torch.zeros((1, 10), dtype=torch.long, device=device)\n",
    "print(''.join(tokenizer.decode(generate(model, context, tokenizer))))"
   ]
  },
  {
   "cell_type": "code",
   "execution_count": 43,
   "id": "9dd28430",
   "metadata": {},
   "outputs": [
    {
     "name": "stdout",
     "output_type": "stream",
     "text": [
      "Epoch 1/10 | Train Loss: 1.3410 | Test Loss: 1.5311\n",
      "Epoch 2/10 | Train Loss: 1.2095 | Test Loss: 1.4657\n",
      "Epoch 3/10 | Train Loss: 1.2008 | Test Loss: 1.3857\n",
      "Epoch 4/10 | Train Loss: 1.1350 | Test Loss: 1.4074\n",
      "Epoch 5/10 | Train Loss: 1.0951 | Test Loss: 1.4010\n",
      "Epoch 6/10 | Train Loss: 1.0894 | Test Loss: 1.3591\n",
      "Epoch 7/10 | Train Loss: 1.1102 | Test Loss: 1.3674\n",
      "Epoch 8/10 | Train Loss: 1.0834 | Test Loss: 1.3670\n",
      "Epoch 9/10 | Train Loss: 1.0682 | Test Loss: 1.3775\n",
      "Epoch 10/10 | Train Loss: 1.0757 | Test Loss: 1.3928\n"
     ]
    }
   ],
   "source": [
    "l = train(model, optim.Adam(model.parameters(), lr=learning_rate))"
   ]
  },
  {
   "cell_type": "code",
   "execution_count": 46,
   "id": "13858070",
   "metadata": {},
   "outputs": [
    {
     "name": "stdout",
     "output_type": "stream",
     "text": [
      "def _Pomn_ads(self))\n",
      "        create the.\n",
      "        Write_dtype(self, other, ', 4, 82])\n",
      "        return Spark 10.0. # bits. .:\n",
      "        \"\"\"Returment to uring whet constat key-examplited from aval coung (bool, or None):\n",
      "               from pyspark.sql ample if len, is since))\n",
      "        spark._jvm.Python)\n",
      "\n",
      " \n"
     ]
    }
   ],
   "source": [
    "context = torch.zeros((1, 10), dtype=torch.long, device=device)\n",
    "print(''.join(tokenizer.decode(generate(model, context, tokenizer))))"
   ]
  },
  {
   "cell_type": "code",
   "execution_count": 49,
   "id": "8bcc4c35",
   "metadata": {},
   "outputs": [
    {
     "data": {
      "text/plain": [
       "[<matplotlib.lines.Line2D at 0x16e8949f640>]"
      ]
     },
     "execution_count": 49,
     "metadata": {},
     "output_type": "execute_result"
    },
    {
     "data": {
      "image/png": "[encoded data removed]",
      "text/plain": [
       "<Figure size 640x480 with 1 Axes>"
      ]
     },
     "metadata": {},
     "output_type": "display_data"
    }
   ],
   "source": [
    "plt.plot(torch.tensor(l).view(-1, 10).mean(dim=-1))"
   ]
  }
 ],
 "metadata": {
  "kernelspec": {
   "display_name": "python3.9",
   "language": "python",
   "name": "python3"
  },
  "language_info": {
   "codemirror_mode": {
    "name": "ipython",
    "version": 3
   },
   "file_extension": ".py",
   "mimetype": "text/x-python",
   "name": "python",
   "nbconvert_exporter": "python",
   "pygments_lexer": "ipython3",
   "version": "3.9.23"
  }
 },
 "nbformat": 4,
 "nbformat_minor": 5
}
